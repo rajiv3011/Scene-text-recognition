{
 "cells": [
  {
   "cell_type": "code",
   "execution_count": 18,
   "metadata": {
    "_cell_guid": "b1076dfc-b9ad-4769-8c92-a6c4dae69d19",
    "_uuid": "8f2839f25d086af736a60e9eeb907d3b93b6e0e5",
    "execution": {
     "iopub.execute_input": "2024-11-24T07:44:27.071630Z",
     "iopub.status.busy": "2024-11-24T07:44:27.070734Z",
     "iopub.status.idle": "2024-11-24T07:44:30.497291Z",
     "shell.execute_reply": "2024-11-24T07:44:30.496502Z",
     "shell.execute_reply.started": "2024-11-24T07:44:27.071592Z"
    }
   },
   "outputs": [],
   "source": [
    "# This Python 3 environment comes with many helpful analytics libraries installed\n",
    "# It is defined by the kaggle/python Docker image: https://github.com/kaggle/docker-python\n",
    "# For example, here's several helpful packages to load\n",
    "\n",
    "import numpy as np # linear algebra\n",
    "import pandas as pd # data processing, CSV file I/O (e.g. pd.read_csv)\n",
    "\n",
    "# Input data files are available in the read-only \"../input/\" directory\n",
    "# For example, running this (by clicking run or pressing Shift+Enter) will list all files under the input directory\n",
    "\n",
    "import os\n",
    "for dirname, _, filenames in os.walk('/kaggle/input'):\n",
    "    for filename in filenames:\n",
    "        os.path.join(dirname, filename)\n",
    "\n",
    "# You can write up to 20GB to the current directory (/kaggle/working/) that gets preserved as output when you create a version using \"Save & Run All\" \n",
    "# You can also write temporary files to /kaggle/temp/, but they won't be saved outside of the current session"
   ]
  },
  {
   "cell_type": "code",
   "execution_count": 19,
   "metadata": {
    "execution": {
     "iopub.execute_input": "2024-11-24T07:44:30.499095Z",
     "iopub.status.busy": "2024-11-24T07:44:30.498817Z",
     "iopub.status.idle": "2024-11-24T07:44:38.534169Z",
     "shell.execute_reply": "2024-11-24T07:44:38.532995Z",
     "shell.execute_reply.started": "2024-11-24T07:44:30.499069Z"
    }
   },
   "outputs": [
    {
     "name": "stdout",
     "output_type": "stream",
     "text": [
      "Requirement already satisfied: Levenshtein in /opt/conda/lib/python3.10/site-packages (0.26.1)\n",
      "Requirement already satisfied: rapidfuzz<4.0.0,>=3.9.0 in /opt/conda/lib/python3.10/site-packages (from Levenshtein) (3.10.1)\n"
     ]
    }
   ],
   "source": [
    "!pip install Levenshtein"
   ]
  },
  {
   "cell_type": "code",
   "execution_count": 20,
   "metadata": {
    "execution": {
     "iopub.execute_input": "2024-11-24T07:44:38.536133Z",
     "iopub.status.busy": "2024-11-24T07:44:38.535708Z",
     "iopub.status.idle": "2024-11-24T07:44:38.542248Z",
     "shell.execute_reply": "2024-11-24T07:44:38.541338Z",
     "shell.execute_reply.started": "2024-11-24T07:44:38.536100Z"
    }
   },
   "outputs": [],
   "source": [
    "import torch\n",
    "from torch import nn\n",
    "from torch.utils.data import DataLoader\n",
    "from torchvision import datasets\n",
    "from torchvision import transforms\n",
    "from torch.nn import CTCLoss\n",
    "import torch.nn.functional as F\n",
    "import torch.optim as optim\n",
    "import os\n",
    "from PIL import Image\n",
    "from torch.utils.data import Dataset\n",
    "import matplotlib.pyplot as plt\n",
    "from sklearn.model_selection import train_test_split\n",
    "from torch.utils.data import random_split\n",
    "import numpy as np\n",
    "import torchinfo"
   ]
  },
  {
   "cell_type": "code",
   "execution_count": 21,
   "metadata": {
    "execution": {
     "iopub.execute_input": "2024-11-24T07:44:38.544577Z",
     "iopub.status.busy": "2024-11-24T07:44:38.544246Z",
     "iopub.status.idle": "2024-11-24T07:44:38.554244Z",
     "shell.execute_reply": "2024-11-24T07:44:38.553374Z",
     "shell.execute_reply.started": "2024-11-24T07:44:38.544536Z"
    }
   },
   "outputs": [],
   "source": [
    "## Creating a Dataset class of loading and processing the Dataset\n",
    "class TextDataset(Dataset):\n",
    "    def __init__(self, image_dir, labels_file, char_set, transform=None):\n",
    "        self.image_dir = image_dir\n",
    "        self.labels_file = labels_file\n",
    "        self.char_set = char_set\n",
    "        self.transform = transform\n",
    "\n",
    "        self.image_paths, self.labels = self._load_labels(labels_file)\n",
    "\n",
    "        self.char_to_idx = {char: idx for idx, char in enumerate(self.char_set)}\n",
    "        self.blank_token = 62\n",
    "\n",
    "    def _load_labels(self, labels_file):\n",
    "        image_paths = []\n",
    "        labels = []\n",
    "        with open(labels_file, 'r') as f:\n",
    "            for line in f:\n",
    "                _,path, label = line.strip().split(',')\n",
    "                image_paths.append(os.path.join(self.image_dir, path))\n",
    "                labels.append(label)\n",
    "        return image_paths, labels\n",
    "\n",
    "    def _encode_label(self, label):\n",
    "        return [self.char_to_idx.get(char, self.blank_token) for char in label]\n",
    "\n",
    "    def __len__(self):\n",
    "        return len(self.image_paths)\n",
    "\n",
    "    def __getitem__(self, idx):\n",
    "        img_path = self.image_paths[idx]\n",
    "        image = Image.open(img_path).convert('RGB')\n",
    "\n",
    "        if self.transform:\n",
    "            image = self.transform(image)\n",
    "\n",
    "        label = self.labels[idx]\n",
    "        label_encoded = self._encode_label(label)\n",
    "\n",
    "        return image, torch.tensor(label_encoded, dtype=torch.long)"
   ]
  },
  {
   "cell_type": "code",
   "execution_count": 22,
   "metadata": {
    "execution": {
     "iopub.execute_input": "2024-11-24T07:44:38.555614Z",
     "iopub.status.busy": "2024-11-24T07:44:38.555258Z",
     "iopub.status.idle": "2024-11-24T07:44:38.564352Z",
     "shell.execute_reply": "2024-11-24T07:44:38.563674Z",
     "shell.execute_reply.started": "2024-11-24T07:44:38.555579Z"
    }
   },
   "outputs": [],
   "source": [
    "## The Characters the labels can have\n",
    "## 26 small and 26 Capital Alphabets, 0-9 numeric charaters\n",
    "our_char_set = 'abcdefghijklmnopqrstuvwxyzABCDEFGHIJKLMNOPQRSTUVWXYZ0123456789'\n"
   ]
  },
  {
   "cell_type": "code",
   "execution_count": 23,
   "metadata": {
    "execution": {
     "iopub.execute_input": "2024-11-24T07:44:38.565674Z",
     "iopub.status.busy": "2024-11-24T07:44:38.565362Z",
     "iopub.status.idle": "2024-11-24T07:44:38.596438Z",
     "shell.execute_reply": "2024-11-24T07:44:38.595544Z",
     "shell.execute_reply.started": "2024-11-24T07:44:38.565650Z"
    }
   },
   "outputs": [],
   "source": [
    "transform = transforms.Compose([\n",
    "    transforms.Grayscale(), \n",
    "    transforms.Resize((32, 100), interpolation=Image.BICUBIC),  \n",
    "    transforms.ToTensor(),  \n",
    "    transforms.GaussianBlur(kernel_size=(3, 3), sigma=(0.1, 2.0)), \n",
    "    transforms.Normalize((0.5,), (0.5,))  \n",
    "])\n",
    "\n",
    "dataset = TextDataset(\n",
    "    image_dir='/kaggle/input/text-recognition-dataset/k/dataset/images',\n",
    "    labels_file='/kaggle/input/text-recognition-dataset/k/dataset/labels.csv',\n",
    "    char_set=our_char_set,\n",
    "    transform=transform\n",
    ")\n"
   ]
  },
  {
   "cell_type": "code",
   "execution_count": 24,
   "metadata": {
    "execution": {
     "iopub.execute_input": "2024-11-24T07:44:38.597696Z",
     "iopub.status.busy": "2024-11-24T07:44:38.597475Z",
     "iopub.status.idle": "2024-11-24T07:44:38.602502Z",
     "shell.execute_reply": "2024-11-24T07:44:38.601581Z",
     "shell.execute_reply.started": "2024-11-24T07:44:38.597674Z"
    }
   },
   "outputs": [],
   "source": [
    "from torch.nn.utils.rnn import pad_sequence\n",
    "\n",
    "def collate_fn(batch):\n",
    "    images, labels = zip(*batch)\n",
    "    images = torch.stack(images, 0)\n",
    "    label_lengths = torch.tensor([len(label) for label in labels], dtype=torch.long)\n",
    "\n",
    "    labels_padded = pad_sequence(labels, batch_first=True, padding_value=62)  \n",
    "\n",
    "    return images, labels_padded, label_lengths"
   ]
  },
  {
   "cell_type": "code",
   "execution_count": 25,
   "metadata": {
    "execution": {
     "iopub.execute_input": "2024-11-24T07:44:38.604242Z",
     "iopub.status.busy": "2024-11-24T07:44:38.603616Z",
     "iopub.status.idle": "2024-11-24T07:44:38.610509Z",
     "shell.execute_reply": "2024-11-24T07:44:38.609820Z",
     "shell.execute_reply.started": "2024-11-24T07:44:38.604203Z"
    }
   },
   "outputs": [],
   "source": [
    "train_size = int(0.8 * len(dataset))\n",
    "val_size = len(dataset) - train_size\n",
    "\n",
    "train_dataset, validation_dataset = random_split(dataset, [train_size, val_size])"
   ]
  },
  {
   "cell_type": "code",
   "execution_count": 26,
   "metadata": {
    "execution": {
     "iopub.execute_input": "2024-11-24T07:44:38.611728Z",
     "iopub.status.busy": "2024-11-24T07:44:38.611476Z",
     "iopub.status.idle": "2024-11-24T07:44:38.620586Z",
     "shell.execute_reply": "2024-11-24T07:44:38.619735Z",
     "shell.execute_reply.started": "2024-11-24T07:44:38.611699Z"
    }
   },
   "outputs": [],
   "source": [
    "batch_size = 32\n",
    "\n",
    "# our training dataset loader\n",
    "train_loader = DataLoader(train_dataset, batch_size=batch_size, shuffle=True, collate_fn=collate_fn)\n",
    "\n",
    "val_loader = DataLoader(validation_dataset, batch_size=batch_size, shuffle=True, collate_fn=collate_fn)"
   ]
  },
  {
   "cell_type": "code",
   "execution_count": 27,
   "metadata": {
    "execution": {
     "iopub.execute_input": "2024-11-24T07:44:38.623089Z",
     "iopub.status.busy": "2024-11-24T07:44:38.622795Z",
     "iopub.status.idle": "2024-11-24T07:44:38.629966Z",
     "shell.execute_reply": "2024-11-24T07:44:38.629168Z",
     "shell.execute_reply.started": "2024-11-24T07:44:38.623060Z"
    }
   },
   "outputs": [],
   "source": [
    "def greedy_decode(output, blank_token=62):\n",
    "    decoded_sequences = []\n",
    "    \n",
    "    for sequence in output:\n",
    "        best_path = torch.argmax(sequence, dim=1).cpu().numpy()\n",
    "\n",
    "        decoded = []\n",
    "        previous = -1\n",
    "        for idx in best_path:\n",
    "            if idx != previous and idx != blank_token:  \n",
    "                decoded.append(idx)\n",
    "            previous = idx\n",
    "\n",
    "        decoded_str = \"\".join([our_char_set[idx] for idx in decoded if idx in range(len(our_char_set))])\n",
    "        decoded_sequences.append(decoded_str)\n",
    "    \n",
    "    return decoded_sequences"
   ]
  },
  {
   "cell_type": "code",
   "execution_count": 28,
   "metadata": {
    "execution": {
     "iopub.execute_input": "2024-11-24T07:44:38.631143Z",
     "iopub.status.busy": "2024-11-24T07:44:38.630896Z",
     "iopub.status.idle": "2024-11-24T07:44:38.642508Z",
     "shell.execute_reply": "2024-11-24T07:44:38.641751Z",
     "shell.execute_reply.started": "2024-11-24T07:44:38.631120Z"
    }
   },
   "outputs": [],
   "source": [
    "from typing import List\n",
    "from Levenshtein import distance as levenshtein_distance  \n",
    "\n",
    "def compute_edit_distance(preds: List[str], targets: List[str]) -> dict:\n",
    "\n",
    "    total_edit_distance = 0\n",
    "    total_sequences = len(preds)\n",
    "    exact_matches = 0\n",
    "\n",
    "    for pred, target in zip(preds, targets):\n",
    "        edit_dist = levenshtein_distance(pred, target)\n",
    "        total_edit_distance += edit_dist\n",
    "        \n",
    "        if edit_dist == 0:\n",
    "            exact_matches += 1\n",
    "        \n",
    "    avg_edit_distance = total_edit_distance / total_sequences\n",
    "    exact_match_accuracy = exact_matches / total_sequences\n",
    "\n",
    "    return {\n",
    "        \"average_edit_distance\": avg_edit_distance,\n",
    "        \"exact_match_accuracy\": exact_match_accuracy,\n",
    "    }"
   ]
  },
  {
   "cell_type": "code",
   "execution_count": 29,
   "metadata": {
    "execution": {
     "iopub.execute_input": "2024-11-24T07:44:38.643840Z",
     "iopub.status.busy": "2024-11-24T07:44:38.643494Z",
     "iopub.status.idle": "2024-11-24T07:44:38.654608Z",
     "shell.execute_reply": "2024-11-24T07:44:38.653945Z",
     "shell.execute_reply.started": "2024-11-24T07:44:38.643803Z"
    }
   },
   "outputs": [],
   "source": [
    "class EarlyStopping:\n",
    "    def __init__(self, patience=5, min_delta=0.01):\n",
    "        self.patience = patience\n",
    "        self.min_delta = min_delta\n",
    "        self.best_loss = float('inf')\n",
    "        self.counter = 0\n",
    "\n",
    "    def __call__(self, val_loss):\n",
    "        if val_loss < self.best_loss - self.min_delta:\n",
    "            self.best_loss = val_loss\n",
    "            self.counter = 0\n",
    "        else:\n",
    "            self.counter += 1\n",
    "\n",
    "        return self.counter >= self.patience\n"
   ]
  },
  {
   "cell_type": "code",
   "execution_count": 30,
   "metadata": {
    "execution": {
     "iopub.execute_input": "2024-11-24T07:44:38.655716Z",
     "iopub.status.busy": "2024-11-24T07:44:38.655474Z",
     "iopub.status.idle": "2024-11-24T07:44:38.662204Z",
     "shell.execute_reply": "2024-11-24T07:44:38.661328Z",
     "shell.execute_reply.started": "2024-11-24T07:44:38.655691Z"
    }
   },
   "outputs": [],
   "source": [
    "def tensortochar(tensor):\n",
    "    return [''.join(our_char_set[idx.item()] for idx in seq if idx.item() != 62) for seq in tensor]"
   ]
  },
  {
   "cell_type": "code",
   "execution_count": 31,
   "metadata": {
    "execution": {
     "iopub.execute_input": "2024-11-24T07:44:38.663690Z",
     "iopub.status.busy": "2024-11-24T07:44:38.663384Z",
     "iopub.status.idle": "2024-11-24T07:44:38.784286Z",
     "shell.execute_reply": "2024-11-24T07:44:38.783465Z",
     "shell.execute_reply.started": "2024-11-24T07:44:38.663664Z"
    }
   },
   "outputs": [
    {
     "name": "stdout",
     "output_type": "stream",
     "text": [
      "Summary of the architecture (batch_size=32):\n"
     ]
    },
    {
     "data": {
      "text/plain": [
       "==========================================================================================\n",
       "Layer (type:depth-idx)                   Output Shape              Param #\n",
       "==========================================================================================\n",
       "CRNN                                     [32, 24, 63]              --\n",
       "├─Sequential: 1-1                        [32, 64, 16, 50]          --\n",
       "│    └─Conv2d: 2-1                       [32, 64, 32, 100]         640\n",
       "│    └─ReLU: 2-2                         [32, 64, 32, 100]         --\n",
       "│    └─MaxPool2d: 2-3                    [32, 64, 16, 50]          --\n",
       "├─Sequential: 1-2                        [32, 128, 8, 25]          --\n",
       "│    └─Conv2d: 2-4                       [32, 128, 16, 50]         73,856\n",
       "│    └─ReLU: 2-5                         [32, 128, 16, 50]         --\n",
       "│    └─MaxPool2d: 2-6                    [32, 128, 8, 25]          --\n",
       "├─Sequential: 1-3                        [32, 256, 4, 25]          --\n",
       "│    └─Conv2d: 2-7                       [32, 256, 8, 25]          295,168\n",
       "│    └─ReLU: 2-8                         [32, 256, 8, 25]          --\n",
       "│    └─Conv2d: 2-9                       [32, 256, 8, 25]          590,080\n",
       "│    └─ReLU: 2-10                        [32, 256, 8, 25]          --\n",
       "│    └─MaxPool2d: 2-11                   [32, 256, 4, 25]          --\n",
       "├─Sequential: 1-4                        [32, 512, 2, 25]          --\n",
       "│    └─Conv2d: 2-12                      [32, 512, 4, 25]          1,180,160\n",
       "│    └─BatchNorm2d: 2-13                 [32, 512, 4, 25]          1,024\n",
       "│    └─ReLU: 2-14                        [32, 512, 4, 25]          --\n",
       "│    └─Conv2d: 2-15                      [32, 512, 4, 25]          2,359,808\n",
       "│    └─BatchNorm2d: 2-16                 [32, 512, 4, 25]          1,024\n",
       "│    └─ReLU: 2-17                        [32, 512, 4, 25]          --\n",
       "│    └─MaxPool2d: 2-18                   [32, 512, 2, 25]          --\n",
       "├─Sequential: 1-5                        [32, 512, 1, 24]          --\n",
       "│    └─Conv2d: 2-19                      [32, 512, 1, 24]          1,049,088\n",
       "│    └─ReLU: 2-20                        [32, 512, 1, 24]          --\n",
       "├─LSTM: 1-6                              [32, 24, 512]             3,153,920\n",
       "├─Linear: 1-7                            [32, 24, 63]              32,319\n",
       "==========================================================================================\n",
       "Total params: 8,737,087\n",
       "Trainable params: 8,737,087\n",
       "Non-trainable params: 0\n",
       "Total mult-adds (G): 22.18\n",
       "==========================================================================================\n",
       "Input size (MB): 0.41\n",
       "Forward/backward pass size (MB): 163.96\n",
       "Params size (MB): 34.95\n",
       "Estimated Total Size (MB): 199.32\n",
       "=========================================================================================="
      ]
     },
     "execution_count": 31,
     "metadata": {},
     "output_type": "execute_result"
    }
   ],
   "source": [
    "class CRNN(nn.Module):\n",
    "    def __init__(self, input_channels, num_classes):\n",
    "        super(CRNN, self).__init__()\n",
    "        \n",
    "        # Block 1\n",
    "        self.block_1 = nn.Sequential(\n",
    "            nn.Conv2d(input_channels, 64, kernel_size=3, stride=1, padding=1),\n",
    "            nn.ReLU(),\n",
    "            nn.MaxPool2d(kernel_size=(2, 2), stride=(2, 2))\n",
    "        )\n",
    "        \n",
    "        # Block 2\n",
    "        self.block_2 = nn.Sequential(\n",
    "            nn.Conv2d(64, 128, kernel_size=3, stride=1, padding=1),\n",
    "            nn.ReLU(),\n",
    "            nn.MaxPool2d(kernel_size=(2, 2), stride=(2, 2))\n",
    "        )\n",
    "        \n",
    "        # Block 3\n",
    "        self.block_3 = nn.Sequential(\n",
    "            nn.Conv2d(128, 256, kernel_size=3, stride=1, padding=1),\n",
    "            nn.ReLU(),\n",
    "            nn.Conv2d(256, 256, kernel_size=3, stride=1, padding=1),\n",
    "            nn.ReLU(),\n",
    "            nn.MaxPool2d(kernel_size=(2, 1), stride=(2, 1))\n",
    "        )\n",
    "        \n",
    "        # Block 4\n",
    "        self.block_4 = nn.Sequential(\n",
    "            nn.Conv2d(256, 512, kernel_size=3, stride=1, padding=1),\n",
    "            nn.BatchNorm2d(512),\n",
    "            nn.ReLU(),\n",
    "            nn.Conv2d(512, 512, kernel_size=3, stride=1, padding=1),\n",
    "            nn.BatchNorm2d(512),\n",
    "            nn.ReLU(),\n",
    "            nn.MaxPool2d(kernel_size=(2, 1), stride=(2, 1)) \n",
    "        )\n",
    "        \n",
    "        # Block 5\n",
    "        self.block_5 = nn.Sequential(\n",
    "            nn.Conv2d(512, 512, kernel_size=2, stride=1, padding=0),\n",
    "            nn.ReLU()\n",
    "        )\n",
    "        \n",
    "        # LSTM layers\n",
    "        self.lstm = nn.LSTM(input_size=512, hidden_size=256, num_layers=2, bidirectional=True, batch_first=True)\n",
    "        \n",
    "        # Fully connected layer\n",
    "        self.classifier = nn.Linear(256 * 2, num_classes)  \n",
    "        \n",
    "    def forward(self, x):\n",
    "        x = self.block_1(x)\n",
    "        x = self.block_2(x)\n",
    "        x = self.block_3(x)\n",
    "        x = self.block_4(x)\n",
    "        x = self.block_5(x)\n",
    "        \n",
    "        x = x.squeeze(2).permute(0, 2, 1)  \n",
    "        \n",
    "        x, _ = self.lstm(x)  \n",
    "        x = self.classifier(x) \n",
    "        \n",
    "        return F.log_softmax(x, dim=2)  \n",
    "\n",
    "\n",
    "input_channels = 1  \n",
    "num_classes = 63  \n",
    "device = \"cuda\" if torch.cuda.is_available() else \"cpu\"\n",
    "mymodel = CRNN(input_channels=input_channels, num_classes=num_classes).to(device)\n",
    "\n",
    "# Print model summary\n",
    "print(\"Summary of the architecture (batch_size=32):\")\n",
    "torchinfo.summary(mymodel, input_size=(32, 1, 32, 100))"
   ]
  },
  {
   "cell_type": "code",
   "execution_count": 32,
   "metadata": {
    "execution": {
     "iopub.execute_input": "2024-11-24T07:44:38.785823Z",
     "iopub.status.busy": "2024-11-24T07:44:38.785440Z",
     "iopub.status.idle": "2024-11-24T07:44:38.791745Z",
     "shell.execute_reply": "2024-11-24T07:44:38.790842Z",
     "shell.execute_reply.started": "2024-11-24T07:44:38.785767Z"
    }
   },
   "outputs": [],
   "source": [
    "## loss function definition\n",
    "blank_token = 62\n",
    "\n",
    "loss_fun = nn.CTCLoss(blank=blank_token, reduction='mean').to(device)\n",
    "## optimizer\n",
    "optimizer = optim.Adadelta(mymodel.parameters(), lr=0.1)"
   ]
  },
  {
   "cell_type": "code",
   "execution_count": 33,
   "metadata": {
    "execution": {
     "iopub.execute_input": "2024-11-24T07:44:38.793647Z",
     "iopub.status.busy": "2024-11-24T07:44:38.792937Z",
     "iopub.status.idle": "2024-11-24T07:53:46.567122Z",
     "shell.execute_reply": "2024-11-24T07:53:46.566157Z",
     "shell.execute_reply.started": "2024-11-24T07:44:38.793620Z"
    }
   },
   "outputs": [
    {
     "name": "stdout",
     "output_type": "stream",
     "text": [
      "Epoch: 1\n",
      " ----\n",
      "Train Loss: 3.978181477636099 | Validation Loss: 3.8348544001579286\n",
      "Average Training Edit distance: 8.14619140625 | Average Validation Edit distance: 8.14319556451613\n",
      "Average Training Match Accuracy: 0.0 | Average Validation Match Accuracy: 0.0\n",
      "Epoch: 2\n",
      " ----\n",
      "Train Loss: 3.7266872517764567 | Validation Loss: 3.6365022242069243\n",
      "Average Training Edit distance: 8.143484933035714 | Average Validation Edit distance: 8.141834677419356\n",
      "Average Training Match Accuracy: 0.0 | Average Validation Match Accuracy: 0.0\n",
      "Epoch: 3\n",
      " ----\n",
      "Train Loss: 3.5560580983757974 | Validation Loss: 3.568020898103714\n",
      "Average Training Edit distance: 8.0048828125 | Average Validation Edit distance: 7.960975302419355\n",
      "Average Training Match Accuracy: 0.0 | Average Validation Match Accuracy: 0.0\n",
      "Epoch: 4\n",
      " ----\n",
      "Train Loss: 3.4100350767374037 | Validation Loss: 3.3505685836076737\n",
      "Average Training Edit distance: 7.832798549107143 | Average Validation Edit distance: 7.79343497983871\n",
      "Average Training Match Accuracy: 0.0 | Average Validation Match Accuracy: 0.0\n",
      "Epoch: 5\n",
      " ----\n",
      "Train Loss: 3.1742454886436464 | Validation Loss: 3.123810902237892\n",
      "Average Training Edit distance: 7.697154017857143 | Average Validation Edit distance: 7.56077368951613\n",
      "Average Training Match Accuracy: 0.0 | Average Validation Match Accuracy: 0.0\n",
      "Epoch: 6\n",
      " ----\n",
      "Train Loss: 2.9066559858620167 | Validation Loss: 2.7705131649971007\n",
      "Average Training Edit distance: 7.3311104910714295 | Average Validation Edit distance: 7.009198588709677\n",
      "Average Training Match Accuracy: 0.0 | Average Validation Match Accuracy: 0.0\n",
      "Epoch: 7\n",
      " ----\n",
      "Train Loss: 2.55928267352283 | Validation Loss: 2.553449347615242\n",
      "Average Training Edit distance: 6.225627790178572 | Average Validation Edit distance: 5.020665322580645\n",
      "Average Training Match Accuracy: 0.0013671875 | Average Validation Match Accuracy: 0.00703125\n",
      "Epoch: 8\n",
      " ----\n",
      "Train Loss: 1.9933357175439597 | Validation Loss: 1.912609452009201\n",
      "Average Training Edit distance: 4.347544642857143 | Average Validation Edit distance: 4.232711693548387\n",
      "Average Training Match Accuracy: 0.03215680803571429 | Average Validation Match Accuracy: 0.033203125\n",
      "Epoch: 9\n",
      " ----\n",
      "Train Loss: 1.5316011805087328 | Validation Loss: 1.6486002653837204\n",
      "Average Training Edit distance: 3.3023995535714286 | Average Validation Edit distance: 3.590788810483871\n",
      "Average Training Match Accuracy: 0.11215122767857141 | Average Validation Match Accuracy: 0.10788810483870967\n",
      "Epoch: 10\n",
      " ----\n",
      "Train Loss: 1.2529670674353839 | Validation Loss: 1.386770998686552\n",
      "Average Training Edit distance: 2.71787109375 | Average Validation Edit distance: 3.142212701612903\n",
      "Average Training Match Accuracy: 0.19704241071428572 | Average Validation Match Accuracy: 0.14143145161290321\n",
      "Epoch: 11\n",
      " ----\n",
      "Train Loss: 1.0633581846952438 | Validation Loss: 1.2205599121749402\n",
      "Average Training Edit distance: 2.3443498883928573 | Average Validation Edit distance: 2.739906754032258\n",
      "Average Training Match Accuracy: 0.26455078125 | Average Validation Match Accuracy: 0.1911038306451613\n",
      "Epoch: 12\n",
      " ----\n",
      "Train Loss: 0.9157928546890617 | Validation Loss: 1.0966612234711648\n",
      "Average Training Edit distance: 2.0646065848214286 | Average Validation Edit distance: 2.3688508064516127\n",
      "Average Training Match Accuracy: 0.3289202008928572 | Average Validation Match Accuracy: 0.27473538306451617\n",
      "Epoch: 13\n",
      " ----\n",
      "Train Loss: 0.8057860340923071 | Validation Loss: 1.0208505362272262\n",
      "Average Training Edit distance: 1.82939453125 | Average Validation Edit distance: 2.183656754032258\n",
      "Average Training Match Accuracy: 0.38913225446428573 | Average Validation Match Accuracy: 0.3211819556451613\n",
      "Epoch: 14\n",
      " ----\n",
      "Train Loss: 0.7079847229644656 | Validation Loss: 0.9971384681761265\n",
      "Average Training Edit distance: 1.6357142857142857 | Average Validation Edit distance: 2.165070564516129\n",
      "Average Training Match Accuracy: 0.4253627232142857 | Average Validation Match Accuracy: 0.33879788306451614\n",
      "Epoch: 15\n",
      " ----\n",
      "Train Loss: 0.6289787968620658 | Validation Loss: 0.9512688353657722\n",
      "Average Training Edit distance: 1.4685686383928571 | Average Validation Edit distance: 2.0562373991935483\n",
      "Average Training Match Accuracy: 0.47646484375 | Average Validation Match Accuracy: 0.35871975806451617\n",
      "Epoch: 16\n",
      " ----\n",
      "Train Loss: 0.5506281421985477 | Validation Loss: 0.9100063927471638\n",
      "Average Training Edit distance: 1.2994698660714286 | Average Validation Edit distance: 1.9764742943548388\n",
      "Average Training Match Accuracy: 0.5195172991071428 | Average Validation Match Accuracy: 0.3946698588709677\n",
      "Epoch: 17\n",
      " ----\n",
      "Train Loss: 0.487651550816372 | Validation Loss: 0.9576994188129901\n",
      "Average Training Edit distance: 1.1741071428571428 | Average Validation Edit distance: 2.053251008064516\n",
      "Average Training Match Accuracy: 0.5576171875 | Average Validation Match Accuracy: 0.38373235887096774\n",
      "Epoch: 18\n",
      " ----\n",
      "Train Loss: 0.4314661943819374 | Validation Loss: 0.9820462487637996\n",
      "Average Training Edit distance: 1.052134486607143 | Average Validation Edit distance: 2.0778981854838707\n",
      "Average Training Match Accuracy: 0.5912388392857143 | Average Validation Match Accuracy: 0.3630040322580645\n",
      "Epoch: 19\n",
      " ----\n",
      "Train Loss: 0.3719606920145452 | Validation Loss: 0.9452401265501976\n",
      "Average Training Edit distance: 0.9242885044642858 | Average Validation Edit distance: 1.9648311491935484\n",
      "Average Training Match Accuracy: 0.6254045758928571 | Average Validation Match Accuracy: 0.3958039314516129\n",
      "Epoch: 20\n",
      " ----\n",
      "Train Loss: 0.326341933850199 | Validation Loss: 0.9264358185231686\n",
      "Average Training Edit distance: 0.8158482142857142 | Average Validation Edit distance: 1.8315524193548387\n",
      "Average Training Match Accuracy: 0.6595284598214286 | Average Validation Match Accuracy: 0.4384954637096774\n",
      "Epoch: 21\n",
      " ----\n",
      "Train Loss: 0.2888733677798882 | Validation Loss: 1.0828669220209122\n",
      "Average Training Edit distance: 0.7244419642857143 | Average Validation Edit distance: 2.0439264112903226\n",
      "Average Training Match Accuracy: 0.6859933035714285 | Average Validation Match Accuracy: 0.39154485887096774\n",
      "Training halted at epoch 21\n"
     ]
    }
   ],
   "source": [
    "epochs = 50\n",
    "train_loss = []\n",
    "val_loss = []\n",
    "train_edit_dist = []\n",
    "val_edit_dist = []\n",
    "train_match_acc = []\n",
    "val_match_acc = []\n",
    "\n",
    "early_stopping = EarlyStopping()\n",
    "for epoch in range(epochs):\n",
    "    print(f\"Epoch: {epoch + 1}\\n ----\")\n",
    "    \n",
    "    # Training Phase\n",
    "    mymodel.train()\n",
    "    train_loss1 = 0\n",
    "    edit_dist = 0\n",
    "    total_match = 0\n",
    "    for batch, label, target_length in train_loader:\n",
    "        batch = batch.to(device)\n",
    "\n",
    "        label_str = tensortochar(label)\n",
    "\n",
    "        # Forward pass\n",
    "        y_batch = mymodel(batch)\n",
    "        pred_str = greedy_decode(y_batch)\n",
    "        input_length = torch.full(size=(batch.shape[0],), fill_value=y_batch.shape[1], dtype=torch.int32).to(device)\n",
    "\n",
    "        dict = compute_edit_distance(pred_str, label_str)\n",
    "        \n",
    "        # Compute loss\n",
    "        loss = loss_fun(y_batch.permute(1, 0, 2), label, input_length, target_length)\n",
    "        train_loss1 += loss.item() \n",
    "        edit_dist += dict[\"average_edit_distance\"]\n",
    "        total_match += dict['exact_match_accuracy']\n",
    "\n",
    "        # Backward pass and optimization\n",
    "        optimizer.zero_grad()\n",
    "        loss.backward()\n",
    "        optimizer.step()\n",
    "    \n",
    "    train_loss1 /= len(train_loader)\n",
    "    edit_dist /= len(train_loader)\n",
    "    total_match /= len(train_loader)\n",
    "    train_loss.append(train_loss1)\n",
    "    train_edit_dist.append(edit_dist)\n",
    "    train_match_acc.append(total_match)\n",
    "\n",
    "    # Evaluation Phase\n",
    "    mymodel.eval()\n",
    "    val_loss1 = 0\n",
    "    edit_dist1 = 0\n",
    "    total_match1 = 0\n",
    "    with torch.inference_mode():\n",
    "        for batch, label, target_length in val_loader:\n",
    "            batch = batch.to(device)\n",
    "\n",
    "            label_str = tensortochar(label)\n",
    "            \n",
    "            # Forward pass\n",
    "            val_pred = mymodel(batch)\n",
    "            pred_str = greedy_decode(val_pred)\n",
    "            input_length = torch.full(size=(batch.shape[0],), fill_value=val_pred.shape[1], dtype=torch.int32).to(device)\n",
    "\n",
    "            dict = compute_edit_distance(pred_str, label_str)\n",
    "            \n",
    "            # Compute loss\n",
    "            loss = loss_fun(val_pred.permute(1, 0, 2), label, input_length, target_length)\n",
    "            val_loss1 += loss.item()  \n",
    "            edit_dist1 += dict[\"average_edit_distance\"]\n",
    "            total_match1 += dict['exact_match_accuracy']\n",
    "            \n",
    "        val_loss1 /= len(val_loader)\n",
    "        edit_dist1 /= len(val_loader)\n",
    "        total_match1 /= len(val_loader)\n",
    "        val_loss.append(val_loss1)\n",
    "        val_edit_dist.append(edit_dist1)\n",
    "        val_match_acc.append(total_match1)\n",
    "        print(f\"Train Loss: {train_loss1} | Validation Loss: {val_loss1}\")\n",
    "        print(f\"Average Training Edit distance: {edit_dist} | Average Validation Edit distance: {edit_dist1}\")\n",
    "        print(f\"Average Training Match Accuracy: {total_match} | Average Validation Match Accuracy: {total_match1}\")\n",
    "\n",
    "    if early_stopping(val_loss1):\n",
    "        print(f\"Training halted at epoch {epoch + 1}\")\n",
    "        break"
   ]
  },
  {
   "cell_type": "code",
   "execution_count": 34,
   "metadata": {
    "execution": {
     "iopub.execute_input": "2024-11-24T07:53:46.568724Z",
     "iopub.status.busy": "2024-11-24T07:53:46.568350Z",
     "iopub.status.idle": "2024-11-24T07:53:47.092667Z",
     "shell.execute_reply": "2024-11-24T07:53:47.091828Z",
     "shell.execute_reply.started": "2024-11-24T07:53:46.568675Z"
    }
   },
   "outputs": [
    {
     "data": {
      "image/png": "[encoded data removed]",
      "text/plain": [
       "<Figure size 1500x600 with 3 Axes>"
      ]
     },
     "metadata": {},
     "output_type": "display_data"
    }
   ],
   "source": [
    "x=np.arange(len(train_loss))\n",
    "\n",
    "fig, ax = plt.subplots(1,3,figsize = (15,6))\n",
    "ax[0].plot(x,train_loss,label=\"training Loss\")\n",
    "ax[0].plot(x,val_loss,label=\"Validation Loss\")\n",
    "ax[0].legend()\n",
    "\n",
    "ax[1].plot(x,train_edit_dist,label=\"Average Trainig Edit Distance\")\n",
    "ax[1].plot(x,val_edit_dist,label=\"Average Validation Edit Distance\")\n",
    "ax[1].legend()\n",
    "\n",
    "ax[2].plot(x,train_match_acc,label=\"Average Training Match Accuracy\")\n",
    "ax[2].plot(x,val_match_acc,label=\"Average Validation Match Accuracy\")\n",
    "ax[2].legend()\n",
    "\n",
    "plt.show()"
   ]
  }
 ],
 "metadata": {
  "kaggle": {
   "accelerator": "nvidiaTeslaT4",
   "dataSources": [
    {
     "datasetId": 6088573,
     "sourceId": 9909459,
     "sourceType": "datasetVersion"
    }
   ],
   "dockerImageVersionId": 30787,
   "isGpuEnabled": true,
   "isInternetEnabled": true,
   "language": "python",
   "sourceType": "notebook"
  },
  "kernelspec": {
   "display_name": "Python 3 (ipykernel)",
   "language": "python",
   "name": "python3"
  },
  "language_info": {
   "codemirror_mode": {
    "name": "ipython",
    "version": 3
   },
   "file_extension": ".py",
   "mimetype": "text/x-python",
   "name": "python",
   "nbconvert_exporter": "python",
   "pygments_lexer": "ipython3",
   "version": "3.10.12"
  }
 },
 "nbformat": 4,
 "nbformat_minor": 4
}
