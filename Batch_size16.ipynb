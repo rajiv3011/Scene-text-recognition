{
 "cells": [
  {
   "cell_type": "code",
   "execution_count": 1,
   "metadata": {
    "_cell_guid": "b1076dfc-b9ad-4769-8c92-a6c4dae69d19",
    "_uuid": "8f2839f25d086af736a60e9eeb907d3b93b6e0e5",
    "execution": {
     "iopub.execute_input": "2024-11-24T07:59:16.751888Z",
     "iopub.status.busy": "2024-11-24T07:59:16.751554Z",
     "iopub.status.idle": "2024-11-24T07:59:25.302049Z",
     "shell.execute_reply": "2024-11-24T07:59:25.301294Z",
     "shell.execute_reply.started": "2024-11-24T07:59:16.751851Z"
    }
   },
   "outputs": [],
   "source": [
    "# This Python 3 environment comes with many helpful analytics libraries installed\n",
    "# It is defined by the kaggle/python Docker image: https://github.com/kaggle/docker-python\n",
    "# For example, here's several helpful packages to load\n",
    "\n",
    "import numpy as np # linear algebra\n",
    "import pandas as pd # data processing, CSV file I/O (e.g. pd.read_csv)\n",
    "\n",
    "# Input data files are available in the read-only \"../input/\" directory\n",
    "# For example, running this (by clicking run or pressing Shift+Enter) will list all files under the input directory\n",
    "\n",
    "import os\n",
    "for dirname, _, filenames in os.walk('/kaggle/input'):\n",
    "    for filename in filenames:\n",
    "        os.path.join(dirname, filename)\n",
    "\n",
    "# You can write up to 20GB to the current directory (/kaggle/working/) that gets preserved as output when you create a version using \"Save & Run All\" \n",
    "# You can also write temporary files to /kaggle/temp/, but they won't be saved outside of the current session"
   ]
  },
  {
   "cell_type": "code",
   "execution_count": 2,
   "metadata": {
    "execution": {
     "iopub.execute_input": "2024-11-24T07:59:25.303383Z",
     "iopub.status.busy": "2024-11-24T07:59:25.303016Z",
     "iopub.status.idle": "2024-11-24T07:59:35.653661Z",
     "shell.execute_reply": "2024-11-24T07:59:35.652532Z",
     "shell.execute_reply.started": "2024-11-24T07:59:25.303355Z"
    }
   },
   "outputs": [
    {
     "name": "stdout",
     "output_type": "stream",
     "text": [
      "Collecting Levenshtein\n",
      "  Downloading levenshtein-0.26.1-cp310-cp310-manylinux_2_17_x86_64.manylinux2014_x86_64.whl.metadata (3.2 kB)\n",
      "Collecting rapidfuzz<4.0.0,>=3.9.0 (from Levenshtein)\n",
      "  Downloading rapidfuzz-3.10.1-cp310-cp310-manylinux_2_17_x86_64.manylinux2014_x86_64.whl.metadata (11 kB)\n",
      "Downloading levenshtein-0.26.1-cp310-cp310-manylinux_2_17_x86_64.manylinux2014_x86_64.whl (162 kB)\n",
      "\u001b[2K   \u001b[90m━━━━━━━━━━━━━━━━━━━━━━━━━━━━━━━━━━━━━━━━\u001b[0m \u001b[32m162.6/162.6 kB\u001b[0m \u001b[31m4.3 MB/s\u001b[0m eta \u001b[36m0:00:00\u001b[0ma \u001b[36m0:00:01\u001b[0m\n",
      "\u001b[?25hDownloading rapidfuzz-3.10.1-cp310-cp310-manylinux_2_17_x86_64.manylinux2014_x86_64.whl (3.1 MB)\n",
      "\u001b[2K   \u001b[90m━━━━━━━━━━━━━━━━━━━━━━━━━━━━━━━━━━━━━━━━\u001b[0m \u001b[32m3.1/3.1 MB\u001b[0m \u001b[31m49.0 MB/s\u001b[0m eta \u001b[36m0:00:00\u001b[0ma \u001b[36m0:00:01\u001b[0m\n",
      "\u001b[?25hInstalling collected packages: rapidfuzz, Levenshtein\n",
      "Successfully installed Levenshtein-0.26.1 rapidfuzz-3.10.1\n"
     ]
    }
   ],
   "source": [
    "!pip install Levenshtein"
   ]
  },
  {
   "cell_type": "code",
   "execution_count": 3,
   "metadata": {
    "execution": {
     "iopub.execute_input": "2024-11-24T07:59:35.656265Z",
     "iopub.status.busy": "2024-11-24T07:59:35.655965Z",
     "iopub.status.idle": "2024-11-24T07:59:40.024461Z",
     "shell.execute_reply": "2024-11-24T07:59:40.023782Z",
     "shell.execute_reply.started": "2024-11-24T07:59:35.656237Z"
    }
   },
   "outputs": [],
   "source": [
    "import torch\n",
    "from torch import nn\n",
    "from torch.utils.data import DataLoader\n",
    "from torchvision import datasets\n",
    "from torchvision import transforms\n",
    "from torch.nn import CTCLoss\n",
    "import torch.nn.functional as F\n",
    "import torch.optim as optim\n",
    "import os\n",
    "from PIL import Image\n",
    "from torch.utils.data import Dataset\n",
    "import matplotlib.pyplot as plt\n",
    "from sklearn.model_selection import train_test_split\n",
    "from torch.utils.data import random_split\n",
    "import numpy as np\n",
    "import torchinfo"
   ]
  },
  {
   "cell_type": "code",
   "execution_count": 4,
   "metadata": {
    "execution": {
     "iopub.execute_input": "2024-11-24T07:59:40.025765Z",
     "iopub.status.busy": "2024-11-24T07:59:40.025372Z",
     "iopub.status.idle": "2024-11-24T07:59:40.033877Z",
     "shell.execute_reply": "2024-11-24T07:59:40.032980Z",
     "shell.execute_reply.started": "2024-11-24T07:59:40.025736Z"
    }
   },
   "outputs": [],
   "source": [
    "## Creating a Dataset class of loading and processing the Dataset\n",
    "class TextDataset(Dataset):\n",
    "    def __init__(self, image_dir, labels_file, char_set, transform=None):\n",
    "        self.image_dir = image_dir\n",
    "        self.labels_file = labels_file\n",
    "        self.char_set = char_set\n",
    "        self.transform = transform\n",
    "\n",
    "        self.image_paths, self.labels = self._load_labels(labels_file)\n",
    "\n",
    "        self.char_to_idx = {char: idx for idx, char in enumerate(self.char_set)}\n",
    "        self.blank_token = 62\n",
    "\n",
    "    def _load_labels(self, labels_file):\n",
    "        image_paths = []\n",
    "        labels = []\n",
    "        with open(labels_file, 'r') as f:\n",
    "            for line in f:\n",
    "                _,path, label = line.strip().split(',')\n",
    "                image_paths.append(os.path.join(self.image_dir, path))\n",
    "                labels.append(label)\n",
    "        return image_paths, labels\n",
    "\n",
    "    def _encode_label(self, label):\n",
    "        return [self.char_to_idx.get(char, self.blank_token) for char in label]\n",
    "\n",
    "    def __len__(self):\n",
    "        return len(self.image_paths)\n",
    "\n",
    "    def __getitem__(self, idx):\n",
    "        img_path = self.image_paths[idx]\n",
    "        image = Image.open(img_path).convert('RGB')\n",
    "\n",
    "        if self.transform:\n",
    "            image = self.transform(image)\n",
    "\n",
    "        label = self.labels[idx]\n",
    "        label_encoded = self._encode_label(label)\n",
    "\n",
    "        return image, torch.tensor(label_encoded, dtype=torch.long)"
   ]
  },
  {
   "cell_type": "code",
   "execution_count": 5,
   "metadata": {
    "execution": {
     "iopub.execute_input": "2024-11-24T07:59:40.035304Z",
     "iopub.status.busy": "2024-11-24T07:59:40.034975Z",
     "iopub.status.idle": "2024-11-24T07:59:40.046336Z",
     "shell.execute_reply": "2024-11-24T07:59:40.045676Z",
     "shell.execute_reply.started": "2024-11-24T07:59:40.035266Z"
    }
   },
   "outputs": [],
   "source": [
    "## The Characters the labels can have\n",
    "## 26 small and 26 Capital Alphabets, 0-9 numeric charaters\n",
    "our_char_set = 'abcdefghijklmnopqrstuvwxyzABCDEFGHIJKLMNOPQRSTUVWXYZ0123456789'\n"
   ]
  },
  {
   "cell_type": "code",
   "execution_count": 6,
   "metadata": {
    "execution": {
     "iopub.execute_input": "2024-11-24T07:59:40.047434Z",
     "iopub.status.busy": "2024-11-24T07:59:40.047146Z",
     "iopub.status.idle": "2024-11-24T07:59:40.084543Z",
     "shell.execute_reply": "2024-11-24T07:59:40.083933Z",
     "shell.execute_reply.started": "2024-11-24T07:59:40.047378Z"
    }
   },
   "outputs": [],
   "source": [
    "transform = transforms.Compose([\n",
    "    transforms.Grayscale(), \n",
    "    transforms.Resize((32, 100), interpolation=Image.BICUBIC),  \n",
    "    transforms.ToTensor(),  \n",
    "    transforms.GaussianBlur(kernel_size=(3, 3), sigma=(0.1, 2.0)), \n",
    "    transforms.Normalize((0.5,), (0.5,))  \n",
    "])\n",
    "\n",
    "dataset = TextDataset(\n",
    "    image_dir='/kaggle/input/text-recognition-dataset/k/dataset/images',\n",
    "    labels_file='/kaggle/input/text-recognition-dataset/k/dataset/labels.csv',\n",
    "    char_set=our_char_set,\n",
    "    transform=transform\n",
    ")\n"
   ]
  },
  {
   "cell_type": "code",
   "execution_count": 7,
   "metadata": {
    "execution": {
     "iopub.execute_input": "2024-11-24T07:59:40.085596Z",
     "iopub.status.busy": "2024-11-24T07:59:40.085347Z",
     "iopub.status.idle": "2024-11-24T07:59:40.090027Z",
     "shell.execute_reply": "2024-11-24T07:59:40.089243Z",
     "shell.execute_reply.started": "2024-11-24T07:59:40.085565Z"
    }
   },
   "outputs": [],
   "source": [
    "from torch.nn.utils.rnn import pad_sequence\n",
    "\n",
    "def collate_fn(batch):\n",
    "    images, labels = zip(*batch)\n",
    "    images = torch.stack(images, 0)\n",
    "    label_lengths = torch.tensor([len(label) for label in labels], dtype=torch.long)\n",
    "\n",
    "    labels_padded = pad_sequence(labels, batch_first=True, padding_value=62)  \n",
    "\n",
    "    return images, labels_padded, label_lengths"
   ]
  },
  {
   "cell_type": "code",
   "execution_count": 8,
   "metadata": {
    "execution": {
     "iopub.execute_input": "2024-11-24T07:59:40.091443Z",
     "iopub.status.busy": "2024-11-24T07:59:40.091121Z",
     "iopub.status.idle": "2024-11-24T07:59:40.120104Z",
     "shell.execute_reply": "2024-11-24T07:59:40.119537Z",
     "shell.execute_reply.started": "2024-11-24T07:59:40.091408Z"
    }
   },
   "outputs": [],
   "source": [
    "train_size = int(0.8 * len(dataset))\n",
    "val_size = len(dataset) - train_size\n",
    "\n",
    "train_dataset, validation_dataset = random_split(dataset, [train_size, val_size])"
   ]
  },
  {
   "cell_type": "code",
   "execution_count": 9,
   "metadata": {
    "execution": {
     "iopub.execute_input": "2024-11-24T07:59:40.123552Z",
     "iopub.status.busy": "2024-11-24T07:59:40.123317Z",
     "iopub.status.idle": "2024-11-24T07:59:40.127857Z",
     "shell.execute_reply": "2024-11-24T07:59:40.126963Z",
     "shell.execute_reply.started": "2024-11-24T07:59:40.123530Z"
    }
   },
   "outputs": [],
   "source": [
    "batch_size = 16\n",
    "\n",
    "# our training dataset loader\n",
    "train_loader = DataLoader(train_dataset, batch_size=batch_size, shuffle=True, collate_fn=collate_fn)\n",
    "\n",
    "val_loader = DataLoader(validation_dataset, batch_size=batch_size, shuffle=True, collate_fn=collate_fn)"
   ]
  },
  {
   "cell_type": "code",
   "execution_count": 10,
   "metadata": {
    "execution": {
     "iopub.execute_input": "2024-11-24T07:59:40.129232Z",
     "iopub.status.busy": "2024-11-24T07:59:40.128914Z",
     "iopub.status.idle": "2024-11-24T07:59:40.140128Z",
     "shell.execute_reply": "2024-11-24T07:59:40.139427Z",
     "shell.execute_reply.started": "2024-11-24T07:59:40.129192Z"
    }
   },
   "outputs": [],
   "source": [
    "def greedy_decode(output, blank_token=62):\n",
    "    decoded_sequences = []\n",
    "    \n",
    "    for sequence in output:\n",
    "        best_path = torch.argmax(sequence, dim=1).cpu().numpy()\n",
    "\n",
    "        decoded = []\n",
    "        previous = -1\n",
    "        for idx in best_path:\n",
    "            if idx != previous and idx != blank_token:  \n",
    "                decoded.append(idx)\n",
    "            previous = idx\n",
    "\n",
    "        decoded_str = \"\".join([our_char_set[idx] for idx in decoded if idx in range(len(our_char_set))])\n",
    "        decoded_sequences.append(decoded_str)\n",
    "    \n",
    "    return decoded_sequences"
   ]
  },
  {
   "cell_type": "code",
   "execution_count": 11,
   "metadata": {
    "execution": {
     "iopub.execute_input": "2024-11-24T07:59:40.141687Z",
     "iopub.status.busy": "2024-11-24T07:59:40.141110Z",
     "iopub.status.idle": "2024-11-24T07:59:40.166147Z",
     "shell.execute_reply": "2024-11-24T07:59:40.165551Z",
     "shell.execute_reply.started": "2024-11-24T07:59:40.141649Z"
    }
   },
   "outputs": [],
   "source": [
    "from typing import List\n",
    "from Levenshtein import distance as levenshtein_distance  \n",
    "\n",
    "def compute_edit_distance(preds: List[str], targets: List[str]) -> dict:\n",
    "\n",
    "    total_edit_distance = 0\n",
    "    total_sequences = len(preds)\n",
    "    exact_matches = 0\n",
    "\n",
    "    for pred, target in zip(preds, targets):\n",
    "        edit_dist = levenshtein_distance(pred, target)\n",
    "        total_edit_distance += edit_dist\n",
    "        \n",
    "        # Exact match\n",
    "        if edit_dist == 0:\n",
    "            exact_matches += 1\n",
    "        \n",
    "    avg_edit_distance = total_edit_distance / total_sequences\n",
    "    exact_match_accuracy = exact_matches / total_sequences\n",
    "\n",
    "    return {\n",
    "        \"average_edit_distance\": avg_edit_distance,\n",
    "        \"exact_match_accuracy\": exact_match_accuracy,\n",
    "    }"
   ]
  },
  {
   "cell_type": "code",
   "execution_count": 12,
   "metadata": {
    "execution": {
     "iopub.execute_input": "2024-11-24T07:59:40.167432Z",
     "iopub.status.busy": "2024-11-24T07:59:40.167118Z",
     "iopub.status.idle": "2024-11-24T07:59:40.172900Z",
     "shell.execute_reply": "2024-11-24T07:59:40.172051Z",
     "shell.execute_reply.started": "2024-11-24T07:59:40.167396Z"
    }
   },
   "outputs": [],
   "source": [
    "class EarlyStopping:\n",
    "    def __init__(self, patience=5, min_delta=0.01):\n",
    "        self.patience = patience\n",
    "        self.min_delta = min_delta\n",
    "        self.best_loss = float('inf')\n",
    "        self.counter = 0\n",
    "\n",
    "    def __call__(self, val_loss):\n",
    "        if val_loss < self.best_loss - self.min_delta:\n",
    "            self.best_loss = val_loss\n",
    "            self.counter = 0\n",
    "        else:\n",
    "            self.counter += 1\n",
    "\n",
    "        return self.counter >= self.patience\n"
   ]
  },
  {
   "cell_type": "code",
   "execution_count": 13,
   "metadata": {
    "execution": {
     "iopub.execute_input": "2024-11-24T07:59:40.174100Z",
     "iopub.status.busy": "2024-11-24T07:59:40.173845Z",
     "iopub.status.idle": "2024-11-24T07:59:40.181080Z",
     "shell.execute_reply": "2024-11-24T07:59:40.180332Z",
     "shell.execute_reply.started": "2024-11-24T07:59:40.174075Z"
    }
   },
   "outputs": [],
   "source": [
    "def tensortochar(tensor):\n",
    "    return [''.join(our_char_set[idx.item()] for idx in seq if idx.item() != 62) for seq in tensor]"
   ]
  },
  {
   "cell_type": "code",
   "execution_count": 14,
   "metadata": {
    "execution": {
     "iopub.execute_input": "2024-11-24T07:59:40.182360Z",
     "iopub.status.busy": "2024-11-24T07:59:40.182123Z",
     "iopub.status.idle": "2024-11-24T07:59:41.206092Z",
     "shell.execute_reply": "2024-11-24T07:59:41.205205Z",
     "shell.execute_reply.started": "2024-11-24T07:59:40.182337Z"
    }
   },
   "outputs": [
    {
     "name": "stdout",
     "output_type": "stream",
     "text": [
      "Summary of the architecture (batch_size=32):\n"
     ]
    },
    {
     "data": {
      "text/plain": [
       "==========================================================================================\n",
       "Layer (type:depth-idx)                   Output Shape              Param #\n",
       "==========================================================================================\n",
       "CRNN                                     [16, 24, 63]              --\n",
       "├─Sequential: 1-1                        [16, 64, 16, 50]          --\n",
       "│    └─Conv2d: 2-1                       [16, 64, 32, 100]         640\n",
       "│    └─ReLU: 2-2                         [16, 64, 32, 100]         --\n",
       "│    └─MaxPool2d: 2-3                    [16, 64, 16, 50]          --\n",
       "├─Sequential: 1-2                        [16, 128, 8, 25]          --\n",
       "│    └─Conv2d: 2-4                       [16, 128, 16, 50]         73,856\n",
       "│    └─ReLU: 2-5                         [16, 128, 16, 50]         --\n",
       "│    └─MaxPool2d: 2-6                    [16, 128, 8, 25]          --\n",
       "├─Sequential: 1-3                        [16, 256, 4, 25]          --\n",
       "│    └─Conv2d: 2-7                       [16, 256, 8, 25]          295,168\n",
       "│    └─ReLU: 2-8                         [16, 256, 8, 25]          --\n",
       "│    └─Conv2d: 2-9                       [16, 256, 8, 25]          590,080\n",
       "│    └─ReLU: 2-10                        [16, 256, 8, 25]          --\n",
       "│    └─MaxPool2d: 2-11                   [16, 256, 4, 25]          --\n",
       "├─Sequential: 1-4                        [16, 512, 2, 25]          --\n",
       "│    └─Conv2d: 2-12                      [16, 512, 4, 25]          1,180,160\n",
       "│    └─BatchNorm2d: 2-13                 [16, 512, 4, 25]          1,024\n",
       "│    └─ReLU: 2-14                        [16, 512, 4, 25]          --\n",
       "│    └─Conv2d: 2-15                      [16, 512, 4, 25]          2,359,808\n",
       "│    └─BatchNorm2d: 2-16                 [16, 512, 4, 25]          1,024\n",
       "│    └─ReLU: 2-17                        [16, 512, 4, 25]          --\n",
       "│    └─MaxPool2d: 2-18                   [16, 512, 2, 25]          --\n",
       "├─Sequential: 1-5                        [16, 512, 1, 24]          --\n",
       "│    └─Conv2d: 2-19                      [16, 512, 1, 24]          1,049,088\n",
       "│    └─ReLU: 2-20                        [16, 512, 1, 24]          --\n",
       "├─LSTM: 1-6                              [16, 24, 512]             3,153,920\n",
       "├─Linear: 1-7                            [16, 24, 63]              32,319\n",
       "==========================================================================================\n",
       "Total params: 8,737,087\n",
       "Trainable params: 8,737,087\n",
       "Non-trainable params: 0\n",
       "Total mult-adds (G): 11.09\n",
       "==========================================================================================\n",
       "Input size (MB): 0.20\n",
       "Forward/backward pass size (MB): 81.98\n",
       "Params size (MB): 34.95\n",
       "Estimated Total Size (MB): 117.14\n",
       "=========================================================================================="
      ]
     },
     "execution_count": 14,
     "metadata": {},
     "output_type": "execute_result"
    }
   ],
   "source": [
    "class CRNN(nn.Module):\n",
    "    def __init__(self, input_channels, num_classes):\n",
    "        super(CRNN, self).__init__()\n",
    "        \n",
    "        # Block 1\n",
    "        self.block_1 = nn.Sequential(\n",
    "            nn.Conv2d(input_channels, 64, kernel_size=3, stride=1, padding=1),\n",
    "            nn.ReLU(),\n",
    "            nn.MaxPool2d(kernel_size=(2, 2), stride=(2, 2))\n",
    "        )\n",
    "        \n",
    "        # Block 2\n",
    "        self.block_2 = nn.Sequential(\n",
    "            nn.Conv2d(64, 128, kernel_size=3, stride=1, padding=1),\n",
    "            nn.ReLU(),\n",
    "            nn.MaxPool2d(kernel_size=(2, 2), stride=(2, 2))\n",
    "        )\n",
    "        \n",
    "        # Block 3\n",
    "        self.block_3 = nn.Sequential(\n",
    "            nn.Conv2d(128, 256, kernel_size=3, stride=1, padding=1),\n",
    "            nn.ReLU(),\n",
    "            nn.Conv2d(256, 256, kernel_size=3, stride=1, padding=1),\n",
    "            nn.ReLU(),\n",
    "            nn.MaxPool2d(kernel_size=(2, 1), stride=(2, 1))\n",
    "        )\n",
    "        \n",
    "        # Block 4\n",
    "        self.block_4 = nn.Sequential(\n",
    "            nn.Conv2d(256, 512, kernel_size=3, stride=1, padding=1),\n",
    "            nn.BatchNorm2d(512),\n",
    "            nn.ReLU(),\n",
    "            nn.Conv2d(512, 512, kernel_size=3, stride=1, padding=1),\n",
    "            nn.BatchNorm2d(512),\n",
    "            nn.ReLU(),\n",
    "            nn.MaxPool2d(kernel_size=(2, 1), stride=(2, 1))  \n",
    "        )\n",
    "        \n",
    "        # Block 5\n",
    "        self.block_5 = nn.Sequential(\n",
    "            nn.Conv2d(512, 512, kernel_size=2, stride=1, padding=0),\n",
    "            nn.ReLU()\n",
    "        )\n",
    "        \n",
    "        # LSTM layers\n",
    "        self.lstm = nn.LSTM(input_size=512, hidden_size=256, num_layers=2, bidirectional=True, batch_first=True)\n",
    "        \n",
    "        # Fully connected layer\n",
    "        self.classifier = nn.Linear(256 * 2, num_classes)  \n",
    "        \n",
    "    def forward(self, x):\n",
    "        x = self.block_1(x)\n",
    "        x = self.block_2(x)\n",
    "        x = self.block_3(x)\n",
    "        x = self.block_4(x)\n",
    "        x = self.block_5(x)\n",
    "        \n",
    "        x = x.squeeze(2).permute(0, 2, 1)  \n",
    "        \n",
    "        x, _ = self.lstm(x)  \n",
    "        x = self.classifier(x)  \n",
    "        \n",
    "        return F.log_softmax(x, dim=2)  \n",
    "\n",
    "\n",
    "\n",
    "input_channels = 1  \n",
    "num_classes = 63  \n",
    "device = \"cuda\" if torch.cuda.is_available() else \"cpu\"\n",
    "mymodel = CRNN(input_channels=input_channels, num_classes=num_classes).to(device)\n",
    "\n",
    "# Print model summary\n",
    "print(\"Summary of the architecture (batch_size=16):\")\n",
    "torchinfo.summary(mymodel, input_size=(16, 1, 32, 100))"
   ]
  },
  {
   "cell_type": "code",
   "execution_count": 15,
   "metadata": {
    "execution": {
     "iopub.execute_input": "2024-11-24T07:59:41.207371Z",
     "iopub.status.busy": "2024-11-24T07:59:41.207098Z",
     "iopub.status.idle": "2024-11-24T07:59:41.212199Z",
     "shell.execute_reply": "2024-11-24T07:59:41.211268Z",
     "shell.execute_reply.started": "2024-11-24T07:59:41.207345Z"
    }
   },
   "outputs": [],
   "source": [
    "## loss function definition\n",
    "blank_token = 62\n",
    "\n",
    "loss_fun = nn.CTCLoss(blank=blank_token, reduction='mean').to(device)\n",
    "## optimizer\n",
    "optimizer = optim.Adadelta(mymodel.parameters(), lr=0.1)"
   ]
  },
  {
   "cell_type": "code",
   "execution_count": 16,
   "metadata": {
    "execution": {
     "iopub.execute_input": "2024-11-24T07:59:41.213848Z",
     "iopub.status.busy": "2024-11-24T07:59:41.213463Z",
     "iopub.status.idle": "2024-11-24T08:11:30.071616Z",
     "shell.execute_reply": "2024-11-24T08:11:30.070638Z",
     "shell.execute_reply.started": "2024-11-24T07:59:41.213811Z"
    }
   },
   "outputs": [
    {
     "name": "stdout",
     "output_type": "stream",
     "text": [
      "Epoch: 1\n",
      " ----\n",
      "Train Loss: 3.8961046919226647 | Validation Loss: 3.699430580437183\n",
      "Average Training Edit distance: 8.143391927083332 | Average Validation Edit distance: 7.999192708333334\n",
      "Average Training Match Accuracy: 0.0 | Average Validation Match Accuracy: 0.0\n",
      "Epoch: 2\n",
      " ----\n",
      "Train Loss: 3.6022681832313537 | Validation Loss: 3.6090993762016295\n",
      "Average Training Edit distance: 7.956673177083333 | Average Validation Edit distance: 7.844427083333334\n",
      "Average Training Match Accuracy: 0.0 | Average Validation Match Accuracy: 0.0\n",
      "Epoch: 3\n",
      " ----\n",
      "Train Loss: 3.410174797102809 | Validation Loss: 3.3555702164769174\n",
      "Average Training Edit distance: 7.772200520833333 | Average Validation Edit distance: 7.875078125\n",
      "Average Training Match Accuracy: 0.0 | Average Validation Match Accuracy: 0.0\n",
      "Epoch: 4\n",
      " ----\n",
      "Train Loss: 3.0980682991445065 | Validation Loss: 3.0219152748584746\n",
      "Average Training Edit distance: 7.554654947916667 | Average Validation Edit distance: 7.492864583333334\n",
      "Average Training Match Accuracy: 0.0 | Average Validation Match Accuracy: 0.0\n",
      "Epoch: 5\n",
      " ----\n",
      "Train Loss: 2.6480713563039897 | Validation Loss: 2.5068322315812113\n",
      "Average Training Edit distance: 6.413053385416667 | Average Validation Edit distance: 5.621041666666667\n",
      "Average Training Match Accuracy: 0.00185546875 | Average Validation Match Accuracy: 0.005859375\n",
      "Epoch: 6\n",
      " ----\n",
      "Train Loss: 1.871355258859694 | Validation Loss: 1.7650166779756546\n",
      "Average Training Edit distance: 4.0828125 | Average Validation Edit distance: 3.8739583333333334\n",
      "Average Training Match Accuracy: 0.0484375 | Average Validation Match Accuracy: 0.06799479166666667\n",
      "Epoch: 7\n",
      " ----\n",
      "Train Loss: 1.3591610978357493 | Validation Loss: 1.3162390060722828\n",
      "Average Training Edit distance: 2.95810546875 | Average Validation Edit distance: 2.7759895833333337\n",
      "Average Training Match Accuracy: 0.17314453125 | Average Validation Match Accuracy: 0.196171875\n",
      "Epoch: 8\n",
      " ----\n",
      "Train Loss: 1.0825185001362114 | Validation Loss: 1.1740441262722014\n",
      "Average Training Edit distance: 2.4063151041666666 | Average Validation Edit distance: 2.5857552083333335\n",
      "Average Training Match Accuracy: 0.27789713541666666 | Average Validation Match Accuracy: 0.2525260416666667\n",
      "Epoch: 9\n",
      " ----\n",
      "Train Loss: 0.9086666104849428 | Validation Loss: 1.0346874417737126\n",
      "Average Training Edit distance: 2.056966145833333 | Average Validation Edit distance: 2.3107552083333336\n",
      "Average Training Match Accuracy: 0.34817708333333336 | Average Validation Match Accuracy: 0.31807291666666665\n",
      "Epoch: 10\n",
      " ----\n",
      "Train Loss: 0.7804535625502467 | Validation Loss: 0.9593066612258554\n",
      "Average Training Edit distance: 1.7919596354166667 | Average Validation Edit distance: 2.151692708333333\n",
      "Average Training Match Accuracy: 0.41298828125 | Average Validation Match Accuracy: 0.34705729166666666\n",
      "Epoch: 11\n",
      " ----\n",
      "Train Loss: 0.681746375723742 | Validation Loss: 0.9092296462506055\n",
      "Average Training Edit distance: 1.5822265625 | Average Validation Edit distance: 1.9980989583333333\n",
      "Average Training Match Accuracy: 0.4670247395833333 | Average Validation Match Accuracy: 0.378671875\n",
      "Epoch: 12\n",
      " ----\n",
      "Train Loss: 0.5989697494311258 | Validation Loss: 0.9000282127410173\n",
      "Average Training Edit distance: 1.4045572916666667 | Average Validation Edit distance: 1.9954166666666666\n",
      "Average Training Match Accuracy: 0.50966796875 | Average Validation Match Accuracy: 0.3966927083333333\n",
      "Epoch: 13\n",
      " ----\n",
      "Train Loss: 0.5271570367738605 | Validation Loss: 0.9210916707292199\n",
      "Average Training Edit distance: 1.26396484375 | Average Validation Edit distance: 1.9908333333333335\n",
      "Average Training Match Accuracy: 0.55224609375 | Average Validation Match Accuracy: 0.39893229166666666\n",
      "Epoch: 14\n",
      " ----\n",
      "Train Loss: 0.45588521417230365 | Validation Loss: 0.8453176990151405\n",
      "Average Training Edit distance: 1.0966471354166667 | Average Validation Edit distance: 1.8057291666666668\n",
      "Average Training Match Accuracy: 0.591015625 | Average Validation Match Accuracy: 0.42437500000000006\n",
      "Epoch: 15\n",
      " ----\n",
      "Train Loss: 0.4077090683975257 | Validation Loss: 0.8686828946694731\n",
      "Average Training Edit distance: 0.9965494791666666 | Average Validation Edit distance: 1.833515625\n",
      "Average Training Match Accuracy: 0.6173177083333333 | Average Validation Match Accuracy: 0.43341145833333333\n",
      "Epoch: 16\n",
      " ----\n",
      "Train Loss: 0.3549865422071889 | Validation Loss: 0.8267251657322049\n",
      "Average Training Edit distance: 0.8828125 | Average Validation Edit distance: 1.7653906249999998\n",
      "Average Training Match Accuracy: 0.6526692708333333 | Average Validation Match Accuracy: 0.4544270833333333\n",
      "Epoch: 17\n",
      " ----\n",
      "Train Loss: 0.3109384679584764 | Validation Loss: 0.8456988174468278\n",
      "Average Training Edit distance: 0.7883463541666667 | Average Validation Edit distance: 1.7253385416666667\n",
      "Average Training Match Accuracy: 0.67763671875 | Average Validation Match Accuracy: 0.4700520833333333\n",
      "Epoch: 18\n",
      " ----\n",
      "Train Loss: 0.2770958662673365 | Validation Loss: 0.8836403818801045\n",
      "Average Training Edit distance: 0.69326171875 | Average Validation Edit distance: 1.7107552083333335\n",
      "Average Training Match Accuracy: 0.7073567708333333 | Average Validation Match Accuracy: 0.473984375\n",
      "Epoch: 19\n",
      " ----\n",
      "Train Loss: 0.2353018309921026 | Validation Loss: 0.8665694528259337\n",
      "Average Training Edit distance: 0.6024088541666667 | Average Validation Edit distance: 1.6888802083333334\n",
      "Average Training Match Accuracy: 0.7318359375 | Average Validation Match Accuracy: 0.47791666666666666\n",
      "Epoch: 20\n",
      " ----\n",
      "Train Loss: 0.19986406399111728 | Validation Loss: 1.0166262285783887\n",
      "Average Training Edit distance: 0.5224934895833333 | Average Validation Edit distance: 1.8629687499999998\n",
      "Average Training Match Accuracy: 0.7623372395833333 | Average Validation Match Accuracy: 0.4415364583333333\n",
      "Epoch: 21\n",
      " ----\n",
      "Train Loss: 0.1784364288323559 | Validation Loss: 0.9388729589991271\n",
      "Average Training Edit distance: 0.4678059895833333 | Average Validation Edit distance: 1.6759374999999999\n",
      "Average Training Match Accuracy: 0.77978515625 | Average Validation Match Accuracy: 0.46890625\n",
      "Training halted at epoch 21\n"
     ]
    }
   ],
   "source": [
    "epochs = 50\n",
    "train_loss = []\n",
    "val_loss = []\n",
    "train_edit_dist = []\n",
    "val_edit_dist = []\n",
    "train_match_acc = []\n",
    "val_match_acc = []\n",
    "\n",
    "early_stopping = EarlyStopping()\n",
    "for epoch in range(epochs):\n",
    "    print(f\"Epoch: {epoch + 1}\\n ----\")\n",
    "    \n",
    "    # Training Phase\n",
    "    mymodel.train()\n",
    "    train_loss1 = 0\n",
    "    edit_dist = 0\n",
    "    total_match = 0\n",
    "    for batch, label, target_length in train_loader:\n",
    "        batch = batch.to(device)\n",
    "\n",
    "        label_str = tensortochar(label)\n",
    "\n",
    "        # Forward pass\n",
    "        y_batch = mymodel(batch)\n",
    "        pred_str = greedy_decode(y_batch)\n",
    "        input_length = torch.full(size=(batch.shape[0],), fill_value=y_batch.shape[1], dtype=torch.int32).to(device)\n",
    "\n",
    "        dict = compute_edit_distance(pred_str, label_str)\n",
    "        \n",
    "        # Compute loss\n",
    "        loss = loss_fun(y_batch.permute(1, 0, 2), label, input_length, target_length)\n",
    "        train_loss1 += loss.item() \n",
    "        edit_dist += dict[\"average_edit_distance\"]\n",
    "        total_match += dict['exact_match_accuracy']\n",
    "\n",
    "        # Backward pass and optimization\n",
    "        optimizer.zero_grad()\n",
    "        loss.backward()\n",
    "        optimizer.step()\n",
    "    \n",
    "    train_loss1 /= len(train_loader)\n",
    "    edit_dist /= len(train_loader)\n",
    "    total_match /= len(train_loader)\n",
    "    train_loss.append(train_loss1)\n",
    "    train_edit_dist.append(edit_dist)\n",
    "    train_match_acc.append(total_match)\n",
    "\n",
    "    # Evaluation Phase\n",
    "    mymodel.eval()\n",
    "    val_loss1 = 0\n",
    "    edit_dist1 = 0\n",
    "    total_match1 = 0\n",
    "    with torch.inference_mode():\n",
    "        for batch, label, target_length in val_loader:\n",
    "            batch = batch.to(device)\n",
    "\n",
    "            label_str = tensortochar(label)\n",
    "            \n",
    "            # Forward pass\n",
    "            val_pred = mymodel(batch)\n",
    "            pred_str = greedy_decode(val_pred)\n",
    "            input_length = torch.full(size=(batch.shape[0],), fill_value=val_pred.shape[1], dtype=torch.int32).to(device)\n",
    "\n",
    "            dict = compute_edit_distance(pred_str, label_str)\n",
    "            \n",
    "            # Compute loss\n",
    "            loss = loss_fun(val_pred.permute(1, 0, 2), label, input_length, target_length)\n",
    "            val_loss1 += loss.item()  \n",
    "            edit_dist1 += dict[\"average_edit_distance\"]\n",
    "            total_match1 += dict['exact_match_accuracy']\n",
    "            \n",
    "        val_loss1 /= len(val_loader)\n",
    "        edit_dist1 /= len(val_loader)\n",
    "        total_match1 /= len(val_loader)\n",
    "        val_loss.append(val_loss1)\n",
    "        val_edit_dist.append(edit_dist1)\n",
    "        val_match_acc.append(total_match1)\n",
    "        print(f\"Train Loss: {train_loss1} | Validation Loss: {val_loss1}\")\n",
    "        print(f\"Average Training Edit distance: {edit_dist} | Average Validation Edit distance: {edit_dist1}\")\n",
    "        print(f\"Average Training Match Accuracy: {total_match} | Average Validation Match Accuracy: {total_match1}\")\n",
    "\n",
    "    if early_stopping(val_loss1):\n",
    "        print(f\"Training halted at epoch {epoch + 1}\")\n",
    "        break"
   ]
  },
  {
   "cell_type": "code",
   "execution_count": 17,
   "metadata": {
    "execution": {
     "iopub.execute_input": "2024-11-24T08:11:30.073165Z",
     "iopub.status.busy": "2024-11-24T08:11:30.072824Z",
     "iopub.status.idle": "2024-11-24T08:11:30.614857Z",
     "shell.execute_reply": "2024-11-24T08:11:30.613816Z",
     "shell.execute_reply.started": "2024-11-24T08:11:30.073134Z"
    }
   },
   "outputs": [
    {
     "data": {
      "image/png": "[encoded data removed]",
      "text/plain": [
       "<Figure size 1500x600 with 3 Axes>"
      ]
     },
     "metadata": {},
     "output_type": "display_data"
    }
   ],
   "source": [
    "x=np.arange(len(train_loss))\n",
    "\n",
    "fig, ax = plt.subplots(1,3,figsize = (15,6))\n",
    "ax[0].plot(x,train_loss,label=\"training Loss\")\n",
    "ax[0].plot(x,val_loss,label=\"Validation Loss\")\n",
    "ax[0].legend()\n",
    "\n",
    "ax[1].plot(x,train_edit_dist,label=\"Average Trainig Edit Distance\")\n",
    "ax[1].plot(x,val_edit_dist,label=\"Average Validation Edit Distance\")\n",
    "ax[1].legend()\n",
    "\n",
    "ax[2].plot(x,train_match_acc,label=\"Average Training Match Accuracy\")\n",
    "ax[2].plot(x,val_match_acc,label=\"Average Validation Match Accuracy\")\n",
    "ax[2].legend()\n",
    "\n",
    "plt.show()"
   ]
  }
 ],
 "metadata": {
  "kaggle": {
   "accelerator": "nvidiaTeslaT4",
   "dataSources": [
    {
     "datasetId": 6088573,
     "sourceId": 9909459,
     "sourceType": "datasetVersion"
    }
   ],
   "dockerImageVersionId": 30787,
   "isGpuEnabled": true,
   "isInternetEnabled": true,
   "language": "python",
   "sourceType": "notebook"
  },
  "kernelspec": {
   "display_name": "Python 3 (ipykernel)",
   "language": "python",
   "name": "python3"
  },
  "language_info": {
   "codemirror_mode": {
    "name": "ipython",
    "version": 3
   },
   "file_extension": ".py",
   "mimetype": "text/x-python",
   "name": "python",
   "nbconvert_exporter": "python",
   "pygments_lexer": "ipython3",
   "version": "3.10.12"
  }
 },
 "nbformat": 4,
 "nbformat_minor": 4
}
