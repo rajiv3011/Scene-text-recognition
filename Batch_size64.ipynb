{
 "cells": [
  {
   "cell_type": "code",
   "execution_count": 1,
   "metadata": {
    "_cell_guid": "b1076dfc-b9ad-4769-8c92-a6c4dae69d19",
    "_uuid": "8f2839f25d086af736a60e9eeb907d3b93b6e0e5",
    "execution": {
     "iopub.execute_input": "2024-11-24T08:15:33.337044Z",
     "iopub.status.busy": "2024-11-24T08:15:33.336770Z",
     "iopub.status.idle": "2024-11-24T08:15:57.309265Z",
     "shell.execute_reply": "2024-11-24T08:15:57.308592Z",
     "shell.execute_reply.started": "2024-11-24T08:15:33.337015Z"
    }
   },
   "outputs": [],
   "source": [
    "# This Python 3 environment comes with many helpful analytics libraries installed\n",
    "# It is defined by the kaggle/python Docker image: https://github.com/kaggle/docker-python\n",
    "# For example, here's several helpful packages to load\n",
    "\n",
    "import numpy as np # linear algebra\n",
    "import pandas as pd # data processing, CSV file I/O (e.g. pd.read_csv)\n",
    "\n",
    "# Input data files are available in the read-only \"../input/\" directory\n",
    "# For example, running this (by clicking run or pressing Shift+Enter) will list all files under the input directory\n",
    "\n",
    "import os\n",
    "for dirname, _, filenames in os.walk('/kaggle/input'):\n",
    "    for filename in filenames:\n",
    "        os.path.join(dirname, filename)\n",
    "\n",
    "# You can write up to 20GB to the current directory (/kaggle/working/) that gets preserved as output when you create a version using \"Save & Run All\" \n",
    "# You can also write temporary files to /kaggle/temp/, but they won't be saved outside of the current session"
   ]
  },
  {
   "cell_type": "code",
   "execution_count": 2,
   "metadata": {
    "execution": {
     "iopub.execute_input": "2024-11-24T08:15:57.311090Z",
     "iopub.status.busy": "2024-11-24T08:15:57.310725Z",
     "iopub.status.idle": "2024-11-24T08:16:07.926989Z",
     "shell.execute_reply": "2024-11-24T08:16:07.925893Z",
     "shell.execute_reply.started": "2024-11-24T08:15:57.311063Z"
    }
   },
   "outputs": [
    {
     "name": "stdout",
     "output_type": "stream",
     "text": [
      "Collecting Levenshtein\n",
      "  Downloading levenshtein-0.26.1-cp310-cp310-manylinux_2_17_x86_64.manylinux2014_x86_64.whl.metadata (3.2 kB)\n",
      "Collecting rapidfuzz<4.0.0,>=3.9.0 (from Levenshtein)\n",
      "  Downloading rapidfuzz-3.10.1-cp310-cp310-manylinux_2_17_x86_64.manylinux2014_x86_64.whl.metadata (11 kB)\n",
      "Downloading levenshtein-0.26.1-cp310-cp310-manylinux_2_17_x86_64.manylinux2014_x86_64.whl (162 kB)\n",
      "\u001b[2K   \u001b[90m━━━━━━━━━━━━━━━━━━━━━━━━━━━━━━━━━━━━━━━━\u001b[0m \u001b[32m162.6/162.6 kB\u001b[0m \u001b[31m5.5 MB/s\u001b[0m eta \u001b[36m0:00:00\u001b[0m\n",
      "\u001b[?25hDownloading rapidfuzz-3.10.1-cp310-cp310-manylinux_2_17_x86_64.manylinux2014_x86_64.whl (3.1 MB)\n",
      "\u001b[2K   \u001b[90m━━━━━━━━━━━━━━━━━━━━━━━━━━━━━━━━━━━━━━━━\u001b[0m \u001b[32m3.1/3.1 MB\u001b[0m \u001b[31m58.2 MB/s\u001b[0m eta \u001b[36m0:00:00\u001b[0m:00:01\u001b[0m\n",
      "\u001b[?25hInstalling collected packages: rapidfuzz, Levenshtein\n",
      "Successfully installed Levenshtein-0.26.1 rapidfuzz-3.10.1\n"
     ]
    }
   ],
   "source": [
    "!pip install Levenshtein"
   ]
  },
  {
   "cell_type": "code",
   "execution_count": 3,
   "metadata": {
    "execution": {
     "iopub.execute_input": "2024-11-24T08:16:07.928671Z",
     "iopub.status.busy": "2024-11-24T08:16:07.928361Z",
     "iopub.status.idle": "2024-11-24T08:16:12.876174Z",
     "shell.execute_reply": "2024-11-24T08:16:12.875263Z",
     "shell.execute_reply.started": "2024-11-24T08:16:07.928642Z"
    }
   },
   "outputs": [],
   "source": [
    "import torch\n",
    "from torch import nn\n",
    "from torch.utils.data import DataLoader\n",
    "from torchvision import datasets\n",
    "from torchvision import transforms\n",
    "from torch.nn import CTCLoss\n",
    "import torch.nn.functional as F\n",
    "import torch.optim as optim\n",
    "import os\n",
    "from PIL import Image\n",
    "from torch.utils.data import Dataset\n",
    "import matplotlib.pyplot as plt\n",
    "from sklearn.model_selection import train_test_split\n",
    "from torch.utils.data import random_split\n",
    "import numpy as np\n",
    "import torchinfo"
   ]
  },
  {
   "cell_type": "code",
   "execution_count": 4,
   "metadata": {
    "execution": {
     "iopub.execute_input": "2024-11-24T08:16:12.878462Z",
     "iopub.status.busy": "2024-11-24T08:16:12.878034Z",
     "iopub.status.idle": "2024-11-24T08:16:12.886241Z",
     "shell.execute_reply": "2024-11-24T08:16:12.885403Z",
     "shell.execute_reply.started": "2024-11-24T08:16:12.878434Z"
    }
   },
   "outputs": [],
   "source": [
    "## Creating a Dataset class of loading and processing the Dataset\n",
    "class TextDataset(Dataset):\n",
    "    def __init__(self, image_dir, labels_file, char_set, transform=None):\n",
    "        self.image_dir = image_dir\n",
    "        self.labels_file = labels_file\n",
    "        self.char_set = char_set\n",
    "        self.transform = transform\n",
    "\n",
    "        self.image_paths, self.labels = self._load_labels(labels_file)\n",
    "\n",
    "        self.char_to_idx = {char: idx for idx, char in enumerate(self.char_set)}\n",
    "        self.blank_token = 62\n",
    "\n",
    "    def _load_labels(self, labels_file):\n",
    "        image_paths = []\n",
    "        labels = []\n",
    "        with open(labels_file, 'r') as f:\n",
    "            for line in f:\n",
    "                _,path, label = line.strip().split(',')\n",
    "                image_paths.append(os.path.join(self.image_dir, path))\n",
    "                labels.append(label)\n",
    "        return image_paths, labels\n",
    "\n",
    "    def _encode_label(self, label):\n",
    "        return [self.char_to_idx.get(char, self.blank_token) for char in label]\n",
    "\n",
    "    def __len__(self):\n",
    "        return len(self.image_paths)\n",
    "\n",
    "    def __getitem__(self, idx):\n",
    "        img_path = self.image_paths[idx]\n",
    "        image = Image.open(img_path).convert('RGB')\n",
    "\n",
    "        if self.transform:\n",
    "            image = self.transform(image)\n",
    "\n",
    "        label = self.labels[idx]\n",
    "        label_encoded = self._encode_label(label)\n",
    "\n",
    "        return image, torch.tensor(label_encoded, dtype=torch.long)"
   ]
  },
  {
   "cell_type": "code",
   "execution_count": 5,
   "metadata": {
    "execution": {
     "iopub.execute_input": "2024-11-24T08:16:12.887694Z",
     "iopub.status.busy": "2024-11-24T08:16:12.887287Z",
     "iopub.status.idle": "2024-11-24T08:16:12.899657Z",
     "shell.execute_reply": "2024-11-24T08:16:12.898863Z",
     "shell.execute_reply.started": "2024-11-24T08:16:12.887663Z"
    }
   },
   "outputs": [],
   "source": [
    "## The Characters the labels can have\n",
    "## 26 small and 26 Capital Alphabets, 0-9 numeric charaters\n",
    "our_char_set = 'abcdefghijklmnopqrstuvwxyzABCDEFGHIJKLMNOPQRSTUVWXYZ0123456789'\n"
   ]
  },
  {
   "cell_type": "code",
   "execution_count": 6,
   "metadata": {
    "execution": {
     "iopub.execute_input": "2024-11-24T08:16:12.900863Z",
     "iopub.status.busy": "2024-11-24T08:16:12.900547Z",
     "iopub.status.idle": "2024-11-24T08:16:12.937871Z",
     "shell.execute_reply": "2024-11-24T08:16:12.937315Z",
     "shell.execute_reply.started": "2024-11-24T08:16:12.900826Z"
    }
   },
   "outputs": [],
   "source": [
    "transform = transforms.Compose([\n",
    "    transforms.Grayscale(), \n",
    "    transforms.Resize((32, 100), interpolation=Image.BICUBIC),  \n",
    "    transforms.ToTensor(),  \n",
    "    transforms.GaussianBlur(kernel_size=(3, 3), sigma=(0.1, 2.0)), \n",
    "    transforms.Normalize((0.5,), (0.5,))  \n",
    "])\n",
    "\n",
    "dataset = TextDataset(\n",
    "    image_dir='/kaggle/input/text-recognition-dataset/k/dataset/images',\n",
    "    labels_file='/kaggle/input/text-recognition-dataset/k/dataset/labels.csv',\n",
    "    char_set=our_char_set,\n",
    "    transform=transform\n",
    ")\n"
   ]
  },
  {
   "cell_type": "code",
   "execution_count": 7,
   "metadata": {
    "execution": {
     "iopub.execute_input": "2024-11-24T08:16:12.939146Z",
     "iopub.status.busy": "2024-11-24T08:16:12.938824Z",
     "iopub.status.idle": "2024-11-24T08:16:12.943564Z",
     "shell.execute_reply": "2024-11-24T08:16:12.942711Z",
     "shell.execute_reply.started": "2024-11-24T08:16:12.939107Z"
    }
   },
   "outputs": [],
   "source": [
    "from torch.nn.utils.rnn import pad_sequence\n",
    "\n",
    "def collate_fn(batch):\n",
    "    images, labels = zip(*batch)\n",
    "    images = torch.stack(images, 0)\n",
    "    label_lengths = torch.tensor([len(label) for label in labels], dtype=torch.long)\n",
    "\n",
    "    labels_padded = pad_sequence(labels, batch_first=True, padding_value=62)  \n",
    "\n",
    "    return images, labels_padded, label_lengths"
   ]
  },
  {
   "cell_type": "code",
   "execution_count": 8,
   "metadata": {
    "execution": {
     "iopub.execute_input": "2024-11-24T08:16:12.944895Z",
     "iopub.status.busy": "2024-11-24T08:16:12.944654Z",
     "iopub.status.idle": "2024-11-24T08:16:12.976675Z",
     "shell.execute_reply": "2024-11-24T08:16:12.976057Z",
     "shell.execute_reply.started": "2024-11-24T08:16:12.944871Z"
    }
   },
   "outputs": [],
   "source": [
    "train_size = int(0.8 * len(dataset))\n",
    "val_size = len(dataset) - train_size\n",
    "\n",
    "train_dataset, validation_dataset = random_split(dataset, [train_size, val_size])"
   ]
  },
  {
   "cell_type": "code",
   "execution_count": 9,
   "metadata": {
    "execution": {
     "iopub.execute_input": "2024-11-24T08:16:12.978373Z",
     "iopub.status.busy": "2024-11-24T08:16:12.977690Z",
     "iopub.status.idle": "2024-11-24T08:16:12.982809Z",
     "shell.execute_reply": "2024-11-24T08:16:12.981957Z",
     "shell.execute_reply.started": "2024-11-24T08:16:12.978316Z"
    }
   },
   "outputs": [],
   "source": [
    "batch_size = 64\n",
    "\n",
    "# our training dataset loader\n",
    "train_loader = DataLoader(train_dataset, batch_size=batch_size, shuffle=True, collate_fn=collate_fn)\n",
    "\n",
    "val_loader = DataLoader(validation_dataset, batch_size=batch_size, shuffle=True, collate_fn=collate_fn)"
   ]
  },
  {
   "cell_type": "code",
   "execution_count": 10,
   "metadata": {
    "execution": {
     "iopub.execute_input": "2024-11-24T08:16:12.985254Z",
     "iopub.status.busy": "2024-11-24T08:16:12.985002Z",
     "iopub.status.idle": "2024-11-24T08:16:12.993695Z",
     "shell.execute_reply": "2024-11-24T08:16:12.992864Z",
     "shell.execute_reply.started": "2024-11-24T08:16:12.985231Z"
    }
   },
   "outputs": [],
   "source": [
    "def greedy_decode(output, blank_token=62):\n",
    "    decoded_sequences = []\n",
    "\n",
    "    for sequence in output:\n",
    "        best_path = torch.argmax(sequence, dim=1).cpu().numpy()\n",
    "\n",
    "        decoded = []\n",
    "        previous = -1\n",
    "        for idx in best_path:\n",
    "            if idx != previous and idx != blank_token:  \n",
    "                decoded.append(idx)\n",
    "            previous = idx\n",
    "\n",
    "        decoded_str = \"\".join([our_char_set[idx] for idx in decoded if idx in range(len(our_char_set))])\n",
    "        decoded_sequences.append(decoded_str)\n",
    "    \n",
    "    return decoded_sequences"
   ]
  },
  {
   "cell_type": "code",
   "execution_count": 11,
   "metadata": {
    "execution": {
     "iopub.execute_input": "2024-11-24T08:16:12.994947Z",
     "iopub.status.busy": "2024-11-24T08:16:12.994701Z",
     "iopub.status.idle": "2024-11-24T08:16:13.026984Z",
     "shell.execute_reply": "2024-11-24T08:16:13.026170Z",
     "shell.execute_reply.started": "2024-11-24T08:16:12.994922Z"
    }
   },
   "outputs": [],
   "source": [
    "from typing import List\n",
    "from Levenshtein import distance as levenshtein_distance  \n",
    "\n",
    "def compute_edit_distance(preds: List[str], targets: List[str]) -> dict:\n",
    "\n",
    "    total_edit_distance = 0\n",
    "    total_sequences = len(preds)\n",
    "    exact_matches = 0\n",
    "\n",
    "    for pred, target in zip(preds, targets):\n",
    "        edit_dist = levenshtein_distance(pred, target)\n",
    "        total_edit_distance += edit_dist\n",
    "        \n",
    "        if edit_dist == 0:\n",
    "            exact_matches += 1\n",
    "        \n",
    "    avg_edit_distance = total_edit_distance / total_sequences\n",
    "    exact_match_accuracy = exact_matches / total_sequences\n",
    "\n",
    "    return {\n",
    "        \"average_edit_distance\": avg_edit_distance,\n",
    "        \"exact_match_accuracy\": exact_match_accuracy,\n",
    "    }"
   ]
  },
  {
   "cell_type": "code",
   "execution_count": 12,
   "metadata": {
    "execution": {
     "iopub.execute_input": "2024-11-24T08:16:13.028150Z",
     "iopub.status.busy": "2024-11-24T08:16:13.027918Z",
     "iopub.status.idle": "2024-11-24T08:16:13.032739Z",
     "shell.execute_reply": "2024-11-24T08:16:13.031966Z",
     "shell.execute_reply.started": "2024-11-24T08:16:13.028127Z"
    }
   },
   "outputs": [],
   "source": [
    "class EarlyStopping:\n",
    "    def __init__(self, patience=5, min_delta=0.01):\n",
    "        self.patience = patience\n",
    "        self.min_delta = min_delta\n",
    "        self.best_loss = float('inf')\n",
    "        self.counter = 0\n",
    "\n",
    "    def __call__(self, val_loss):\n",
    "        if val_loss < self.best_loss - self.min_delta:\n",
    "            self.best_loss = val_loss\n",
    "            self.counter = 0\n",
    "        else:\n",
    "            self.counter += 1\n",
    "\n",
    "        return self.counter >= self.patience\n"
   ]
  },
  {
   "cell_type": "code",
   "execution_count": 13,
   "metadata": {
    "execution": {
     "iopub.execute_input": "2024-11-24T08:16:13.034623Z",
     "iopub.status.busy": "2024-11-24T08:16:13.033825Z",
     "iopub.status.idle": "2024-11-24T08:16:13.041246Z",
     "shell.execute_reply": "2024-11-24T08:16:13.040510Z",
     "shell.execute_reply.started": "2024-11-24T08:16:13.034585Z"
    }
   },
   "outputs": [],
   "source": [
    "def tensortochar(tensor):\n",
    "    return [''.join(our_char_set[idx.item()] for idx in seq if idx.item() != 62) for seq in tensor]"
   ]
  },
  {
   "cell_type": "code",
   "execution_count": 14,
   "metadata": {
    "execution": {
     "iopub.execute_input": "2024-11-24T08:16:13.042613Z",
     "iopub.status.busy": "2024-11-24T08:16:13.042315Z",
     "iopub.status.idle": "2024-11-24T08:16:14.307353Z",
     "shell.execute_reply": "2024-11-24T08:16:14.306501Z",
     "shell.execute_reply.started": "2024-11-24T08:16:13.042581Z"
    }
   },
   "outputs": [
    {
     "name": "stdout",
     "output_type": "stream",
     "text": [
      "Summary of the architecture (batch_size=32):\n"
     ]
    },
    {
     "data": {
      "text/plain": [
       "==========================================================================================\n",
       "Layer (type:depth-idx)                   Output Shape              Param #\n",
       "==========================================================================================\n",
       "CRNN                                     [64, 24, 63]              --\n",
       "├─Sequential: 1-1                        [64, 64, 16, 50]          --\n",
       "│    └─Conv2d: 2-1                       [64, 64, 32, 100]         640\n",
       "│    └─ReLU: 2-2                         [64, 64, 32, 100]         --\n",
       "│    └─MaxPool2d: 2-3                    [64, 64, 16, 50]          --\n",
       "├─Sequential: 1-2                        [64, 128, 8, 25]          --\n",
       "│    └─Conv2d: 2-4                       [64, 128, 16, 50]         73,856\n",
       "│    └─ReLU: 2-5                         [64, 128, 16, 50]         --\n",
       "│    └─MaxPool2d: 2-6                    [64, 128, 8, 25]          --\n",
       "├─Sequential: 1-3                        [64, 256, 4, 25]          --\n",
       "│    └─Conv2d: 2-7                       [64, 256, 8, 25]          295,168\n",
       "│    └─ReLU: 2-8                         [64, 256, 8, 25]          --\n",
       "│    └─Conv2d: 2-9                       [64, 256, 8, 25]          590,080\n",
       "│    └─ReLU: 2-10                        [64, 256, 8, 25]          --\n",
       "│    └─MaxPool2d: 2-11                   [64, 256, 4, 25]          --\n",
       "├─Sequential: 1-4                        [64, 512, 2, 25]          --\n",
       "│    └─Conv2d: 2-12                      [64, 512, 4, 25]          1,180,160\n",
       "│    └─BatchNorm2d: 2-13                 [64, 512, 4, 25]          1,024\n",
       "│    └─ReLU: 2-14                        [64, 512, 4, 25]          --\n",
       "│    └─Conv2d: 2-15                      [64, 512, 4, 25]          2,359,808\n",
       "│    └─BatchNorm2d: 2-16                 [64, 512, 4, 25]          1,024\n",
       "│    └─ReLU: 2-17                        [64, 512, 4, 25]          --\n",
       "│    └─MaxPool2d: 2-18                   [64, 512, 2, 25]          --\n",
       "├─Sequential: 1-5                        [64, 512, 1, 24]          --\n",
       "│    └─Conv2d: 2-19                      [64, 512, 1, 24]          1,049,088\n",
       "│    └─ReLU: 2-20                        [64, 512, 1, 24]          --\n",
       "├─LSTM: 1-6                              [64, 24, 512]             3,153,920\n",
       "├─Linear: 1-7                            [64, 24, 63]              32,319\n",
       "==========================================================================================\n",
       "Total params: 8,737,087\n",
       "Trainable params: 8,737,087\n",
       "Non-trainable params: 0\n",
       "Total mult-adds (G): 44.36\n",
       "==========================================================================================\n",
       "Input size (MB): 0.82\n",
       "Forward/backward pass size (MB): 327.93\n",
       "Params size (MB): 34.95\n",
       "Estimated Total Size (MB): 363.70\n",
       "=========================================================================================="
      ]
     },
     "execution_count": 14,
     "metadata": {},
     "output_type": "execute_result"
    }
   ],
   "source": [
    "class CRNN(nn.Module):\n",
    "    def __init__(self, input_channels, num_classes):\n",
    "        super(CRNN, self).__init__()\n",
    "        \n",
    "        # Block 1\n",
    "        self.block_1 = nn.Sequential(\n",
    "            nn.Conv2d(input_channels, 64, kernel_size=3, stride=1, padding=1),\n",
    "            nn.ReLU(),\n",
    "            nn.MaxPool2d(kernel_size=(2, 2), stride=(2, 2))\n",
    "        )\n",
    "        \n",
    "        # Block 2\n",
    "        self.block_2 = nn.Sequential(\n",
    "            nn.Conv2d(64, 128, kernel_size=3, stride=1, padding=1),\n",
    "            nn.ReLU(),\n",
    "            nn.MaxPool2d(kernel_size=(2, 2), stride=(2, 2))\n",
    "        )\n",
    "        \n",
    "        # Block 3\n",
    "        self.block_3 = nn.Sequential(\n",
    "            nn.Conv2d(128, 256, kernel_size=3, stride=1, padding=1),\n",
    "            nn.ReLU(),\n",
    "            nn.Conv2d(256, 256, kernel_size=3, stride=1, padding=1),\n",
    "            nn.ReLU(),\n",
    "            nn.MaxPool2d(kernel_size=(2, 1), stride=(2, 1))\n",
    "        )\n",
    "        \n",
    "        # Block 4\n",
    "        self.block_4 = nn.Sequential(\n",
    "            nn.Conv2d(256, 512, kernel_size=3, stride=1, padding=1),\n",
    "            nn.BatchNorm2d(512),\n",
    "            nn.ReLU(),\n",
    "            nn.Conv2d(512, 512, kernel_size=3, stride=1, padding=1),\n",
    "            nn.BatchNorm2d(512),\n",
    "            nn.ReLU(),\n",
    "            nn.MaxPool2d(kernel_size=(2, 1), stride=(2, 1))  \n",
    "        )\n",
    "        \n",
    "        # Block 5\n",
    "        self.block_5 = nn.Sequential(\n",
    "            nn.Conv2d(512, 512, kernel_size=2, stride=1, padding=0),\n",
    "            nn.ReLU()\n",
    "        )\n",
    "        \n",
    "        # LSTM layers\n",
    "        self.lstm = nn.LSTM(input_size=512, hidden_size=256, num_layers=2, bidirectional=True, batch_first=True)\n",
    "        \n",
    "        # Fully connected layer\n",
    "        self.classifier = nn.Linear(256 * 2, num_classes)  \n",
    "        \n",
    "    def forward(self, x):\n",
    "        x = self.block_1(x)\n",
    "        x = self.block_2(x)\n",
    "        x = self.block_3(x)\n",
    "        x = self.block_4(x)\n",
    "        x = self.block_5(x)\n",
    "        \n",
    "        x = x.squeeze(2).permute(0, 2, 1)  \n",
    "        \n",
    "        x, _ = self.lstm(x)  \n",
    "        x = self.classifier(x)  \n",
    "        \n",
    "        return F.log_softmax(x, dim=2)  \n",
    "\n",
    "\n",
    "input_channels = 1 \n",
    "num_classes = 63  \n",
    "device = \"cuda\" if torch.cuda.is_available() else \"cpu\"\n",
    "mymodel = CRNN(input_channels=input_channels, num_classes=num_classes).to(device)\n",
    "\n",
    "# Print model summary\n",
    "print(\"Summary of the architecture (batch_size=64):\")\n",
    "torchinfo.summary(mymodel, input_size=(64, 1, 32, 100))"
   ]
  },
  {
   "cell_type": "code",
   "execution_count": 15,
   "metadata": {
    "execution": {
     "iopub.execute_input": "2024-11-24T08:16:14.308653Z",
     "iopub.status.busy": "2024-11-24T08:16:14.308365Z",
     "iopub.status.idle": "2024-11-24T08:16:14.313397Z",
     "shell.execute_reply": "2024-11-24T08:16:14.312515Z",
     "shell.execute_reply.started": "2024-11-24T08:16:14.308627Z"
    }
   },
   "outputs": [],
   "source": [
    "## loss function definition\n",
    "blank_token = 62\n",
    "\n",
    "loss_fun = nn.CTCLoss(blank=blank_token, reduction='mean').to(device)\n",
    "## optimizer\n",
    "optimizer = optim.Adadelta(mymodel.parameters(), lr=0.1)"
   ]
  },
  {
   "cell_type": "code",
   "execution_count": 16,
   "metadata": {
    "execution": {
     "iopub.execute_input": "2024-11-24T08:16:14.314747Z",
     "iopub.status.busy": "2024-11-24T08:16:14.314444Z",
     "iopub.status.idle": "2024-11-24T08:29:25.607117Z",
     "shell.execute_reply": "2024-11-24T08:29:25.606200Z",
     "shell.execute_reply.started": "2024-11-24T08:16:14.314720Z"
    }
   },
   "outputs": [
    {
     "name": "stdout",
     "output_type": "stream",
     "text": [
      "Epoch: 1\n",
      " ----\n",
      "Train Loss: 4.102372144162655 | Validation Loss: 3.913810247182846\n",
      "Average Training Edit distance: 8.14240234375 | Average Validation Edit distance: 8.158060515873016\n",
      "Average Training Match Accuracy: 0.0 | Average Validation Match Accuracy: 0.0\n",
      "Epoch: 2\n",
      " ----\n",
      "Train Loss: 3.818338008224964 | Validation Loss: 3.810970461368561\n",
      "Average Training Edit distance: 8.142526041666667 | Average Validation Edit distance: 8.158091517857143\n",
      "Average Training Match Accuracy: 0.0 | Average Validation Match Accuracy: 0.0\n",
      "Epoch: 3\n",
      " ----\n",
      "Train Loss: 3.727407854795456 | Validation Loss: 3.6939597010612486\n",
      "Average Training Edit distance: 8.142376302083333 | Average Validation Edit distance: 8.15821552579365\n",
      "Average Training Match Accuracy: 0.0 | Average Validation Match Accuracy: 0.0\n",
      "Epoch: 4\n",
      " ----\n",
      "Train Loss: 3.6101093396544455 | Validation Loss: 3.5561816871166227\n",
      "Average Training Edit distance: 8.093177083333334 | Average Validation Edit distance: 7.96241939484127\n",
      "Average Training Match Accuracy: 0.0 | Average Validation Match Accuracy: 0.0\n",
      "Epoch: 5\n",
      " ----\n",
      "Train Loss: 3.5294980362057684 | Validation Loss: 3.652658885717392\n",
      "Average Training Edit distance: 7.948802083333334 | Average Validation Edit distance: 8.005040922619049\n",
      "Average Training Match Accuracy: 0.0 | Average Validation Match Accuracy: 0.0\n",
      "Epoch: 6\n",
      " ----\n",
      "Train Loss: 3.4287151262164115 | Validation Loss: 3.35527908205986\n",
      "Average Training Edit distance: 7.844023437500001 | Average Validation Edit distance: 7.747650049603175\n",
      "Average Training Match Accuracy: 0.0 | Average Validation Match Accuracy: 0.0\n",
      "Epoch: 7\n",
      " ----\n",
      "Train Loss: 3.296120023727417 | Validation Loss: 3.2560553669929506\n",
      "Average Training Edit distance: 7.786744791666666 | Average Validation Edit distance: 7.767788938492063\n",
      "Average Training Match Accuracy: 0.0 | Average Validation Match Accuracy: 0.0\n",
      "Epoch: 8\n",
      " ----\n",
      "Train Loss: 3.1456332832574843 | Validation Loss: 3.083337676525116\n",
      "Average Training Edit distance: 7.711634114583333 | Average Validation Edit distance: 7.615829613095238\n",
      "Average Training Match Accuracy: 0.0 | Average Validation Match Accuracy: 0.0\n",
      "Epoch: 9\n",
      " ----\n",
      "Train Loss: 2.992833413183689 | Validation Loss: 3.0252528190612793\n",
      "Average Training Edit distance: 7.5692578125 | Average Validation Edit distance: 7.464229910714286\n",
      "Average Training Match Accuracy: 0.0 | Average Validation Match Accuracy: 0.0\n",
      "Epoch: 10\n",
      " ----\n",
      "Train Loss: 2.8209934934973715 | Validation Loss: 2.7996603727340696\n",
      "Average Training Edit distance: 7.244381510416666 | Average Validation Edit distance: 6.980623759920635\n",
      "Average Training Match Accuracy: 0.0 | Average Validation Match Accuracy: 0.0\n",
      "Epoch: 11\n",
      " ----\n",
      "Train Loss: 2.6050851970911024 | Validation Loss: 2.5599983811378477\n",
      "Average Training Edit distance: 6.667324218749999 | Average Validation Edit distance: 6.204656498015873\n",
      "Average Training Match Accuracy: 0.0 | Average Validation Match Accuracy: 0.0\n",
      "Epoch: 12\n",
      " ----\n",
      "Train Loss: 2.3006191186606886 | Validation Loss: 2.1672897547483445\n",
      "Average Training Edit distance: 5.5921484375 | Average Validation Edit distance: 4.632905505952381\n",
      "Average Training Match Accuracy: 0.003430989583333333 | Average Validation Match Accuracy: 0.01640625\n",
      "Epoch: 13\n",
      " ----\n",
      "Train Loss: 1.9129452362656594 | Validation Loss: 1.969114714860916\n",
      "Average Training Edit distance: 4.228736979166667 | Average Validation Edit distance: 4.260670882936508\n",
      "Average Training Match Accuracy: 0.036171875 | Average Validation Match Accuracy: 0.035943700396825394\n",
      "Epoch: 14\n",
      " ----\n",
      "Train Loss: 1.563534038513899 | Validation Loss: 1.490707129240036\n",
      "Average Training Edit distance: 3.374453125 | Average Validation Edit distance: 3.1659040178571427\n",
      "Average Training Match Accuracy: 0.10210286458333333 | Average Validation Match Accuracy: 0.13208705357142858\n",
      "Epoch: 15\n",
      " ----\n",
      "Train Loss: 1.3119849227368832 | Validation Loss: 1.5297524809837342\n",
      "Average Training Edit distance: 2.8290690104166667 | Average Validation Edit distance: 3.1548487103174603\n",
      "Average Training Match Accuracy: 0.16792968749999998 | Average Validation Match Accuracy: 0.13950892857142858\n",
      "Epoch: 16\n",
      " ----\n",
      "Train Loss: 1.1499687060713768 | Validation Loss: 1.2546523720026017\n",
      "Average Training Edit distance: 2.5088020833333333 | Average Validation Edit distance: 2.704482886904762\n",
      "Average Training Match Accuracy: 0.23207031250000001 | Average Validation Match Accuracy: 0.23759920634920634\n",
      "Epoch: 17\n",
      " ----\n",
      "Train Loss: 1.00484624132514 | Validation Loss: 1.2808781683444976\n",
      "Average Training Edit distance: 2.215970052083333 | Average Validation Edit distance: 2.628590029761905\n",
      "Average Training Match Accuracy: 0.29259765625 | Average Validation Match Accuracy: 0.23840525793650796\n",
      "Epoch: 18\n",
      " ----\n",
      "Train Loss: 0.905914967134595 | Validation Loss: 1.2044238567352294\n",
      "Average Training Edit distance: 2.02900390625 | Average Validation Edit distance: 2.5299603174603176\n",
      "Average Training Match Accuracy: 0.33107421875 | Average Validation Match Accuracy: 0.24895213293650795\n",
      "Epoch: 19\n",
      " ----\n",
      "Train Loss: 0.8066155884414912 | Validation Loss: 1.1009514063596726\n",
      "Average Training Edit distance: 1.8140755208333335 | Average Validation Edit distance: 2.3417782738095236\n",
      "Average Training Match Accuracy: 0.38220703125 | Average Validation Match Accuracy: 0.29271453373015877\n",
      "Epoch: 20\n",
      " ----\n",
      "Train Loss: 0.7159191343933344 | Validation Loss: 1.0712622627615929\n",
      "Average Training Edit distance: 1.63865234375 | Average Validation Edit distance: 2.2755704365079366\n",
      "Average Training Match Accuracy: 0.4239453125 | Average Validation Match Accuracy: 0.3255022321428572\n",
      "Epoch: 21\n",
      " ----\n",
      "Train Loss: 0.6456099795177579 | Validation Loss: 1.0701463475823403\n",
      "Average Training Edit distance: 1.4992838541666667 | Average Validation Edit distance: 2.2145709325396825\n",
      "Average Training Match Accuracy: 0.4599479166666667 | Average Validation Match Accuracy: 0.31575520833333337\n",
      "Epoch: 22\n",
      " ----\n",
      "Train Loss: 0.5888240411877632 | Validation Loss: 1.1124326646327973\n",
      "Average Training Edit distance: 1.3743229166666668 | Average Validation Edit distance: 2.2534970238095235\n",
      "Average Training Match Accuracy: 0.48873046875000004 | Average Validation Match Accuracy: 0.3146205357142857\n",
      "Epoch: 23\n",
      " ----\n",
      "Train Loss: 0.5174167113378644 | Validation Loss: 1.0253034457564354\n",
      "Average Training Edit distance: 1.2286783854166665 | Average Validation Edit distance: 2.059908234126984\n",
      "Average Training Match Accuracy: 0.5258919270833333 | Average Validation Match Accuracy: 0.37513640873015874\n",
      "Epoch: 24\n",
      " ----\n",
      "Train Loss: 0.4714082915335894 | Validation Loss: 1.0158523917198181\n",
      "Average Training Edit distance: 1.1336393229166668 | Average Validation Edit distance: 2.0175223214285714\n",
      "Average Training Match Accuracy: 0.5576236979166667 | Average Validation Match Accuracy: 0.39153645833333334\n",
      "Epoch: 25\n",
      " ----\n",
      "Train Loss: 0.41378259090706704 | Validation Loss: 1.1536886543035507\n",
      "Average Training Edit distance: 0.9979166666666666 | Average Validation Edit distance: 2.3349020337301587\n",
      "Average Training Match Accuracy: 0.5890755208333334 | Average Validation Match Accuracy: 0.30986483134920634\n",
      "Epoch: 26\n",
      " ----\n",
      "Train Loss: 0.3724100566469133 | Validation Loss: 1.0515815317630768\n",
      "Average Training Edit distance: 0.9063736979166667 | Average Validation Edit distance: 2.019283234126984\n",
      "Average Training Match Accuracy: 0.6162434895833333 | Average Validation Match Accuracy: 0.37826140873015873\n",
      "Epoch: 27\n",
      " ----\n",
      "Train Loss: 0.34241316067054867 | Validation Loss: 1.0203562013804912\n",
      "Average Training Edit distance: 0.8474999999999999 | Average Validation Edit distance: 2.043160962301587\n",
      "Average Training Match Accuracy: 0.6375390624999999 | Average Validation Match Accuracy: 0.385670882936508\n",
      "Epoch: 28\n",
      " ----\n",
      "Train Loss: 0.31058552786707877 | Validation Loss: 1.0365550324320794\n",
      "Average Training Edit distance: 0.7616666666666666 | Average Validation Edit distance: 2.063802083333333\n",
      "Average Training Match Accuracy: 0.6682421875 | Average Validation Match Accuracy: 0.3794146825396826\n",
      "Training halted at epoch 28\n"
     ]
    }
   ],
   "source": [
    "epochs = 50\n",
    "train_loss = []\n",
    "val_loss = []\n",
    "train_edit_dist = []\n",
    "val_edit_dist = []\n",
    "train_match_acc = []\n",
    "val_match_acc = []\n",
    "\n",
    "early_stopping = EarlyStopping()\n",
    "for epoch in range(epochs):\n",
    "    print(f\"Epoch: {epoch + 1}\\n ----\")\n",
    "    \n",
    "    # Training Phase\n",
    "    mymodel.train()\n",
    "    train_loss1 = 0\n",
    "    edit_dist = 0\n",
    "    total_match = 0\n",
    "    for batch, label, target_length in train_loader:\n",
    "        batch = batch.to(device)\n",
    "\n",
    "        label_str = tensortochar(label)\n",
    "\n",
    "        # Forward pass\n",
    "        y_batch = mymodel(batch)\n",
    "        pred_str = greedy_decode(y_batch)\n",
    "        input_length = torch.full(size=(batch.shape[0],), fill_value=y_batch.shape[1], dtype=torch.int32).to(device)\n",
    "\n",
    "        dict = compute_edit_distance(pred_str, label_str)\n",
    "        \n",
    "        # Compute loss\n",
    "        loss = loss_fun(y_batch.permute(1, 0, 2), label, input_length, target_length)\n",
    "        train_loss1 += loss.item() \n",
    "        edit_dist += dict[\"average_edit_distance\"]\n",
    "        total_match += dict['exact_match_accuracy']\n",
    "\n",
    "        # Backward pass and optimization\n",
    "        optimizer.zero_grad()\n",
    "        loss.backward()\n",
    "        optimizer.step()\n",
    "    \n",
    "    train_loss1 /= len(train_loader)\n",
    "    edit_dist /= len(train_loader)\n",
    "    total_match /= len(train_loader)\n",
    "    train_loss.append(train_loss1)\n",
    "    train_edit_dist.append(edit_dist)\n",
    "    train_match_acc.append(total_match)\n",
    "\n",
    "    # Evaluation Phase\n",
    "    mymodel.eval()\n",
    "    val_loss1 = 0\n",
    "    edit_dist1 = 0\n",
    "    total_match1 = 0\n",
    "    with torch.inference_mode():\n",
    "        for batch, label, target_length in val_loader:\n",
    "            batch = batch.to(device)\n",
    "\n",
    "            label_str = tensortochar(label)\n",
    "            \n",
    "            # Forward pass\n",
    "            val_pred = mymodel(batch)\n",
    "            pred_str = greedy_decode(val_pred)\n",
    "            input_length = torch.full(size=(batch.shape[0],), fill_value=val_pred.shape[1], dtype=torch.int32).to(device)\n",
    "\n",
    "            dict = compute_edit_distance(pred_str, label_str)\n",
    "            \n",
    "            # Compute loss\n",
    "            loss = loss_fun(val_pred.permute(1, 0, 2), label, input_length, target_length)\n",
    "            val_loss1 += loss.item()  \n",
    "            edit_dist1 += dict[\"average_edit_distance\"]\n",
    "            total_match1 += dict['exact_match_accuracy']\n",
    "            \n",
    "        val_loss1 /= len(val_loader)\n",
    "        edit_dist1 /= len(val_loader)\n",
    "        total_match1 /= len(val_loader)\n",
    "        val_loss.append(val_loss1)\n",
    "        val_edit_dist.append(edit_dist1)\n",
    "        val_match_acc.append(total_match1)\n",
    "        print(f\"Train Loss: {train_loss1} | Validation Loss: {val_loss1}\")\n",
    "        print(f\"Average Training Edit distance: {edit_dist} | Average Validation Edit distance: {edit_dist1}\")\n",
    "        print(f\"Average Training Match Accuracy: {total_match} | Average Validation Match Accuracy: {total_match1}\")\n",
    "\n",
    "    if early_stopping(val_loss1):\n",
    "        print(f\"Training halted at epoch {epoch + 1}\")\n",
    "        break"
   ]
  },
  {
   "cell_type": "code",
   "execution_count": 17,
   "metadata": {
    "execution": {
     "iopub.execute_input": "2024-11-24T08:29:25.608777Z",
     "iopub.status.busy": "2024-11-24T08:29:25.608395Z",
     "iopub.status.idle": "2024-11-24T08:29:26.177819Z",
     "shell.execute_reply": "2024-11-24T08:29:26.177064Z",
     "shell.execute_reply.started": "2024-11-24T08:29:25.608736Z"
    }
   },
   "outputs": [
    {
     "data": {
      "image/png": "[encoded data removed]",
      "text/plain": [
       "<Figure size 1500x600 with 3 Axes>"
      ]
     },
     "metadata": {},
     "output_type": "display_data"
    }
   ],
   "source": [
    "x=np.arange(len(train_loss))\n",
    "\n",
    "fig, ax = plt.subplots(1,3,figsize = (15,6))\n",
    "ax[0].plot(x,train_loss,label=\"training Loss\")\n",
    "ax[0].plot(x,val_loss,label=\"Validation Loss\")\n",
    "ax[0].legend()\n",
    "\n",
    "ax[1].plot(x,train_edit_dist,label=\"Average Trainig Edit Distance\")\n",
    "ax[1].plot(x,val_edit_dist,label=\"Average Validation Edit Distance\")\n",
    "ax[1].legend()\n",
    "\n",
    "ax[2].plot(x,train_match_acc,label=\"Average Training Match Accuracy\")\n",
    "ax[2].plot(x,val_match_acc,label=\"Average Validation Match Accuracy\")\n",
    "ax[2].legend()\n",
    "\n",
    "plt.show()"
   ]
  }
 ],
 "metadata": {
  "kaggle": {
   "accelerator": "nvidiaTeslaT4",
   "dataSources": [
    {
     "datasetId": 6088573,
     "sourceId": 9909459,
     "sourceType": "datasetVersion"
    }
   ],
   "dockerImageVersionId": 30787,
   "isGpuEnabled": true,
   "isInternetEnabled": true,
   "language": "python",
   "sourceType": "notebook"
  },
  "kernelspec": {
   "display_name": "Python 3 (ipykernel)",
   "language": "python",
   "name": "python3"
  },
  "language_info": {
   "codemirror_mode": {
    "name": "ipython",
    "version": 3
   },
   "file_extension": ".py",
   "mimetype": "text/x-python",
   "name": "python",
   "nbconvert_exporter": "python",
   "pygments_lexer": "ipython3",
   "version": "3.10.12"
  }
 },
 "nbformat": 4,
 "nbformat_minor": 4
}
